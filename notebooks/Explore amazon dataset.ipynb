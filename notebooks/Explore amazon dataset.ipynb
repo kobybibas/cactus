{
  "metadata": {
    "bento_stylesheets": {
      "bento/extensions/flow/main.css": true,
      "bento/extensions/kernel_selector/main.css": true,
      "bento/extensions/kernel_ui/main.css": true,
      "bento/extensions/new_kernel/main.css": true,
      "bento/extensions/system_usage/main.css": true,
      "bento/extensions/theme/main.css": true
    },
    "kernelspec": {
      "display_name": "pytorch_lightning",
      "language": "python",
      "name": "bento_kernel_pytorch_lightning",
      "metadata": {
        "kernel_name": "bento_kernel_pytorch_lightning",
        "nightly_builds": true,
        "fbpkg_supported": true,
        "is_prebuilt": true
      }
    },
    "language_info": {
      "codemirror_mode": {
        "name": "ipython",
        "version": 3
      },
      "file_extension": ".py",
      "mimetype": "text/x-python",
      "name": "python",
      "nbconvert_exporter": "python",
      "pygments_lexer": "ipython3"
    },
    "last_server_session_id": "0ef929ae-38af-4ae7-9202-414ad24cb47e",
    "last_kernel_id": "d6775aad-dd85-4dcb-86f0-cfcf55a8f869",
    "last_base_url": "https://32410.od.fbinfra.net:443/",
    "last_msg_id": "f67d4073-9e92e3a389561e1511fd6968_527",
    "captumWidgetMessage": {},
    "outputWidgetContext": {}
  },
  "nbformat": 4,
  "nbformat_minor": 2,
  "cells": [
    {
      "cell_type": "code",
      "metadata": {
        "collapsed": false,
        "originalKey": "b148f7d3-611b-4844-935b-caa369af5db1",
        "code_folding": [],
        "hidden_ranges": [],
        "requestMsgId": "3402b3ed-cbaf-48c5-a5e7-41c0f8d344f5",
        "executionStartTime": 1632058754727,
        "executionStopTime": 1632058754822
      },
      "source": [
        "%load_ext autoreload\n",
        "import gzip\n",
        "import io\n",
        "import os\n",
        "import os.path as osp\n",
        "import random\n",
        "import sys\n",
        "import time\n",
        "from collections import Counter\n",
        "import time\n",
        "import matplotlib.pyplot as plt\n",
        "import numpy as np\n",
        "import pandas as pd\n",
        "import requests\n",
        "import torch\n",
        "from torch.utils import data\n",
        "from torchvision import transforms\n",
        "from tqdm import tqdm_notebook as tqdm\n",
        "from PIL import Image\n",
        "from io import BytesIO\n",
        "\n",
        "print(os.cpu_count())\n",
        "print(torch.cuda.is_available())\n",
        ""
      ],
      "execution_count": null,
      "outputs": []
    },
    {
      "cell_type": "code",
      "metadata": {
        "originalKey": "101e5218-21cb-4c58-8e27-d39730ecaa54",
        "showInput": true,
        "customInput": null,
        "code_folding": [],
        "hidden_ranges": [],
        "collapsed": false,
        "requestMsgId": "c4931bc0-26e6-4ac9-a697-ee86093314fe",
        "executionStartTime": 1632058754910,
        "executionStopTime": 1632058755190
      },
      "source": [
        "%load_ext autoreload\n",
        "%autoreload 2\n",
        "\n",
        "os.chdir(\"/home/kbibas/fbsource/fbcode/fblearner/flow/projects/experimental/cactus\")\n",
        "print(os.getcwd())\n",
        "print(os.listdir())\n",
        "sys.path.append(\".\")\n",
        "\n",
        "from src.dataset_utils import get_datasets, TransformBatch, create_on_box_dataloader\n",
        "from src.download_data import filter_meta_df\n",
        "from src.manifold_utils import read_data_from_manifold, save_data_to_manifold\n",
        "from src.lit_utils import LitModel\n",
        ""
      ],
      "execution_count": null,
      "outputs": []
    },
    {
      "cell_type": "markdown",
      "metadata": {
        "originalKey": "696d174a-5d06-480b-83a1-215d5519f16c",
        "showInput": false,
        "customInput": null,
        "code_folding": [],
        "hidden_ranges": []
      },
      "source": [
        "# Load dataset to RAM"
      ],
      "attachments": {}
    },
    {
      "cell_type": "code",
      "metadata": {
        "originalKey": "2303464b-cbbc-45a5-9812-dbea85049b40",
        "showInput": true,
        "customInput": null,
        "code_folding": [],
        "hidden_ranges": [],
        "collapsed": false,
        "requestMsgId": "d8111d1c-47f8-403b-85d3-72710527660f",
        "executionStartTime": 1632058755295,
        "executionStopTime": 1632058755395
      },
      "source": [
        "# Params\n",
        "category = \"Clothing_Shoes_and_Jewelry\" # \"Beauty\" # \"Clothing_Shoes_and_Jewelry\" # \"Electronics\"\n",
        "data_dir = \"product_clustering_fluent2_bucket/tree/cactus/amazon_dataset\"\n",
        "item_cf_vector_path = \"product_clustering_fluent2_bucket/tree/cactus/outputs/train_bpr/train_bpr_20210824_023831/embed_items.pt\"\n",
        "batch_size = 128\n",
        "train_set_repeat = 1\n",
        "dpp_server_num_worker_threads = 1\n",
        "num_workers = 0\n",
        "train_set_ratio = 1.0\n",
        "cf_vector_base_dir = None # \"product_clustering_fluent2_bucket/tree/cactus/outputs/train_bpr/train_bpr_20210826_061843\"\n",
        "local_dir_path = \"/home/kbibas/cactus_outputs/amazon_review_local_dir\"\n",
        "is_use_cf_bias = True\n",
        "is_shuffle_train = False\n",
        "train_batch_transform = test_batch_transform = None\n",
        ""
      ],
      "execution_count": null,
      "outputs": []
    },
    {
      "cell_type": "code",
      "metadata": {
        "originalKey": "efb6c633-c41c-4a64-be2b-42bf460d89b1",
        "showInput": true,
        "customInput": null,
        "code_folding": [],
        "hidden_ranges": [],
        "collapsed": false,
        "requestMsgId": "4b86c609-7bbf-434c-adb0-b3aa3a1debf9",
        "executionStartTime": 1632058755489,
        "executionStopTime": 1632058755662
      },
      "source": [
        "class TransformBatchRaw(TransformBatch):\n",
        "    def __call__(self, batch):\n",
        "        \"\"\"Interprets bytes and replaces them with its interpretation\"\"\"\n",
        "        batch_imgs, batch_labels, batch_cf_vectors = [], [], []\n",
        "\n",
        "        for i in range(len(batch[\"image\"])):\n",
        "            raw_img = batch[\"image\"][i]\n",
        "            label = batch[\"label\"][0][i]  # [0] since it is a tuple of [label, True]\n",
        "            cf_vector = batch[\"cf_vector\"][i][0]\n",
        "\n",
        "            try:\n",
        "                byte = BytesIO(raw_img.numpy().view())  # pyre-ignore[6]\n",
        "                byte.seek(0)\n",
        "                img = Image.open(byte, mode=\"r\").convert(\"RGB\")\n",
        "\n",
        "            except Exception as e:\n",
        "                print(\n",
        "                    f'Fail load image. {batch[\"image_path\"][i]=} {type(byte)=} {e=} {byte=}'\n",
        "                )\n",
        "                continue\n",
        "\n",
        "            img = np.array(img)\n",
        "            batch_imgs.append(img)\n",
        "            batch_labels.append(label)\n",
        "            batch_cf_vectors.append(cf_vector)\n",
        "        return batch_imgs, batch_labels, batch_cf_vectors\n",
        ""
      ],
      "execution_count": null,
      "outputs": []
    },
    {
      "cell_type": "code",
      "metadata": {
        "originalKey": "5be32f57-2d9c-43aa-b5b1-cf55f207314a",
        "showInput": true,
        "customInput": null,
        "code_folding": [],
        "hidden_ranges": [],
        "collapsed": false,
        "requestMsgId": "b4912703-9024-49e1-b6b3-32bb42cb34f5",
        "executionStartTime": 1632058755702,
        "executionStopTime": 1632058769950
      },
      "source": [
        "dataset_h, _, dataset_meta = get_datasets(\n",
        "    category=category,\n",
        "    data_dir=data_dir,\n",
        "    cf_vector_base_dir=cf_vector_base_dir,\n",
        "    is_use_cf_bias=is_use_cf_bias,\n",
        "    batch_size=batch_size,\n",
        "    train_set_repeat=train_set_repeat,\n",
        "    num_workers=num_workers,\n",
        "    train_set_ratio=train_set_ratio,\n",
        "    local_dir_path=local_dir_path,\n",
        "    is_shuffle_train=is_shuffle_train,\n",
        "    train_batch_transform=TransformBatchRaw(),\n",
        "    test_batch_transform=TransformBatchRaw(),\n",
        ")\n",
        "\n",
        "dataloader = create_on_box_dataloader(\n",
        "    dataset=dataset_h,\n",
        "    num_workers=num_workers,\n",
        "    dpp_server_num_worker_threads=dpp_server_num_worker_threads,\n",
        ")\n",
        "print(dataset_meta[\"train_set_size\"], dataset_meta[\"test_set_size\"])\n",
        ""
      ],
      "execution_count": null,
      "outputs": []
    },
    {
      "cell_type": "code",
      "metadata": {
        "originalKey": "73a626cb-a6c8-4f6c-9915-6d57736f05c4",
        "showInput": true,
        "customInput": null,
        "collapsed": false,
        "requestMsgId": "11cb0208-c77e-40cf-9ddb-644b6a2fd9c8",
        "executionStopTime": 1632058776153,
        "executionStartTime": 1632058770050,
        "code_folding": [],
        "hidden_ranges": []
      },
      "source": [
        "t0 = time.time()\n",
        "total = round(dataset_meta[\"train_set_size\"] / batch_size)\n",
        "img_list, label_list = [], []\n",
        "for imgs, labels, cf_vectors in tqdm(dataloader, total=total):\n",
        "    img_list += imgs\n",
        "    label_list += labels\n",
        "print(\n",
        "    f\"Iterated on dataloader in {time.time() -t0 :.2f}. {len(img_list)=}  total images = {dataset_meta['train_set_size']}\"\n",
        ")\n",
        ""
      ],
      "execution_count": null,
      "outputs": []
    },
    {
      "cell_type": "markdown",
      "metadata": {
        "originalKey": "bd9a264c-23e2-4065-a1ab-2436e89c242e",
        "showInput": false,
        "customInput": null,
        "code_folding": [],
        "hidden_ranges": []
      },
      "source": [
        "# Visualize dataset"
      ],
      "attachments": {}
    },
    {
      "cell_type": "code",
      "metadata": {
        "originalKey": "2dd6bf1a-0f6c-40c3-8b74-77d4876567d7",
        "showInput": true,
        "customInput": null,
        "code_folding": [],
        "hidden_ranges": [],
        "collapsed": false,
        "requestMsgId": "64374fa1-2f62-4eb2-be02-dcf7acd70a8c",
        "executionStopTime": 1632058780206,
        "executionStartTime": 1632058776293
      },
      "source": [
        "fig, axs = plt.subplots(5, 5, figsize=(20, 20), facecolor=\"white\")\n",
        "axs = axs.flatten()\n",
        "idxs = np.random.randint(0, len(img_list), len(axs))\n",
        "t0 = time.time()\n",
        "for ax, idx in zip(axs, idxs):\n",
        "    img, label = img_list[idx],label_list[idx].item()\n",
        "    label_str = dataset_meta['classes'][label]\n",
        "    ax.imshow(img)\n",
        "    ax.set_xlabel(f\"{idx=} \\n {label_str=} \\n {label=}\")\n",
        "print(f\"loaded {len(axs)} images in {time.time() - t0:.2f} sec\")\n",
        "plt.tight_layout()\n",
        "plt.show()\n",
        ""
      ],
      "execution_count": null,
      "outputs": []
    },
    {
      "cell_type": "markdown",
      "metadata": {
        "originalKey": "928be39f-4d12-4f3a-b9b5-f3bceb881259",
        "showInput": false,
        "customInput": null,
        "code_folding": [],
        "hidden_ranges": []
      },
      "source": [
        "# Get distribution of classes"
      ],
      "attachments": {}
    },
    {
      "cell_type": "code",
      "metadata": {
        "originalKey": "182b65ba-c073-41b1-a515-b59b874e5b20",
        "showInput": true,
        "customInput": null,
        "code_folding": [],
        "hidden_ranges": [],
        "collapsed": false,
        "requestMsgId": "21ea308b-826b-4922-a28b-e3c1a90819ca",
        "executionStartTime": 1632058780340,
        "executionStopTime": 1632058780411
      },
      "source": [
        "labels_np = torch.stack(label_list).numpy()\n",
        "count_np = np.bincount(labels_np)\n",
        "count_np.sort()\n",
        "count_np = count_np[::-1]"
      ],
      "execution_count": null,
      "outputs": []
    },
    {
      "cell_type": "code",
      "metadata": {
        "originalKey": "7b34a640-2428-49d4-a93e-5cd4120c76f9",
        "showInput": true,
        "customInput": null,
        "collapsed": false,
        "requestMsgId": "731a5f46-d5c5-4275-8f9d-443156843bbd",
        "executionStartTime": 1632058780540,
        "executionStopTime": 1632058781066,
        "code_folding": [],
        "hidden_ranges": []
      },
      "source": [
        "fig, ax = plt.subplots(1, 1, facecolor=\"white\", figsize=(4, 4))\n",
        "\n",
        "ax.plot(count_np)\n",
        "ax.set_yscale(\"log\")\n",
        "ax.set_xlabel(\"Label id\")\n",
        "ax.set_ylabel(\"Count\")\n",
        "\n",
        "count_threshold = 100\n",
        "print(\n",
        "    f\"Labels that have more than {count_threshold} examples: {len(count_np[count_np>count_threshold])}. {count_np.min()=}\"\n",
        ")\n",
        "\n",
        "ax.set_title(\"Labels\")\n",
        "plt.tight_layout()\n",
        "plt.show()\n",
        ""
      ],
      "execution_count": null,
      "outputs": []
    },
    {
      "cell_type": "markdown",
      "metadata": {
        "originalKey": "cd74a7ba-ef9d-4d26-b534-dc2a5b3d2797",
        "showInput": false,
        "customInput": null,
        "code_folding": [],
        "hidden_ranges": []
      },
      "source": [
        "# Get the ditribution of image size"
      ],
      "attachments": {}
    },
    {
      "cell_type": "code",
      "metadata": {
        "originalKey": "cbb35826-47ab-49ec-9430-113a4ec76205",
        "showInput": true,
        "customInput": null,
        "code_folding": [],
        "hidden_ranges": [],
        "collapsed": false,
        "requestMsgId": "746d5b04-ce73-4edc-9ab9-4f03b5026b18",
        "executionStartTime": 1632058781140,
        "executionStopTime": 1632058781391
      },
      "source": [
        "heights, widths = [], []\n",
        "for img in tqdm(img_list):\n",
        "    h, w, _ = img.shape\n",
        "    heights.append(h)\n",
        "    widths.append(w)\n",
        "print(f\"mean [h w]=[{np.mean(heights):.2f} {np.mean(widths):.2f}]\")"
      ],
      "execution_count": null,
      "outputs": []
    },
    {
      "cell_type": "code",
      "metadata": {
        "originalKey": "0bb9e434-6e1c-4c47-a816-2a4a496a8801",
        "showInput": true,
        "customInput": null,
        "code_folding": [],
        "hidden_ranges": [],
        "collapsed": false,
        "requestMsgId": "d490badb-ce37-49c6-99e2-166d569d7c0f",
        "executionStopTime": 1632058782603,
        "executionStartTime": 1632058781544
      },
      "source": [
        "fig, axs = plt.subplots(2, 1, facecolor=\"white\")\n",
        "\n",
        "ax = axs[0]\n",
        "ax.hist(heights, bins=100)\n",
        "ax.set_xlabel(\"Heights\")\n",
        "ax.set_ylabel(\"Counts\")\n",
        "ax.set_yscale(\"log\")\n",
        "\n",
        "ax = axs[1]\n",
        "ax.hist(widths, bins=100)\n",
        "ax.set_xlabel(\"Widths\")\n",
        "ax.set_ylabel(\"Counts\")\n",
        "ax.set_yscale(\"log\")\n",
        "\n",
        "axs[0].set_title(category)\n",
        "\n",
        "plt.tight_layout()\n",
        "plt.show()\n",
        ""
      ],
      "execution_count": null,
      "outputs": []
    },
    {
      "cell_type": "markdown",
      "metadata": {
        "originalKey": "a025f256-1b1a-4c44-b216-7c2ba2943a63",
        "showInput": false,
        "customInput": null,
        "code_folding": [],
        "hidden_ranges": []
      },
      "source": [
        "# Get distribution of color"
      ],
      "attachments": {}
    },
    {
      "cell_type": "code",
      "metadata": {
        "originalKey": "7083b721-dd38-4349-a4ea-650d5f1b627a",
        "showInput": true,
        "customInput": null,
        "collapsed": false,
        "requestMsgId": "95a48479-6133-4e23-a172-3a4a9bd3c6e5",
        "executionStopTime": 1632058785495,
        "executionStartTime": 1632058782681
      },
      "source": [
        "mean_color_list =  []\n",
        "for img in tqdm(img_list):\n",
        "    mean_color = np.mean(img ,axis=(0, 1))\n",
        "    mean_color_list.append(mean_color)\n",
        "    \n",
        "mean_colors = np.asarray(mean_color_list).mean(axis=0)\n",
        "print(f\"{mean_colors=}\")"
      ],
      "execution_count": null,
      "outputs": []
    },
    {
      "cell_type": "markdown",
      "metadata": {
        "originalKey": "c41cac32-56a5-4fd8-b2b3-6e3870120a00",
        "showInput": false,
        "customInput": null,
        "code_folding": [],
        "hidden_ranges": []
      },
      "source": [
        "## Reviwer distributin"
      ],
      "attachments": {}
    },
    {
      "cell_type": "code",
      "metadata": {
        "originalKey": "83d101b5-94d3-41ac-baba-314f2e7be3dd",
        "showInput": true,
        "customInput": null,
        "collapsed": false,
        "requestMsgId": "2af24836-a22b-4bec-b2f9-51b521238da7",
        "executionStartTime": 1632058785547,
        "executionStopTime": 1632058808314,
        "code_folding": [],
        "hidden_ranges": []
      },
      "source": [
        "from src.manifold_utils import read_data_from_manifold\n",
        "\n",
        "\n",
        "t0 = time.time()\n",
        "pkl_dict = read_data_from_manifold(\n",
        "    \"product_clustering_fluent2_bucket/tree/cactus/amazon_dataset/Electronics.pkl\",\n",
        "    is_from_pkl=True,\n",
        ")\n",
        "print(time.time() - t0)\n",
        "pkl_dict.keys()\n",
        ""
      ],
      "execution_count": null,
      "outputs": []
    },
    {
      "cell_type": "code",
      "metadata": {
        "originalKey": "03825087-19d6-4d0f-82e3-a8bd8164d8b5",
        "showInput": true,
        "customInput": null,
        "collapsed": false,
        "requestMsgId": "db40b1d5-8fdf-42a2-ac3f-994ea4a0c44a",
        "executionStartTime": 1632058808407,
        "executionStopTime": 1632058809140,
        "code_folding": [],
        "hidden_ranges": []
      },
      "source": [
        "reviews_df = pkl_dict[\"reviews_df\"]\n",
        "fig, ax = plt.subplots(1, 1, facecolor=\"white\")\n",
        "reviews_df.hist(column=\"overall\", ax=ax)\n",
        "ax.set_title(\"User rating\")\n",
        "plt.show()\n",
        ""
      ],
      "execution_count": null,
      "outputs": []
    },
    {
      "cell_type": "code",
      "metadata": {
        "originalKey": "a250bd27-a955-4492-adb2-a77370c85f04",
        "showInput": true,
        "customInput": null,
        "collapsed": false,
        "requestMsgId": "5b2a6ae2-8898-4ff2-a831-837f106adef8",
        "executionStartTime": 1632058809440,
        "executionStopTime": 1632058810255
      },
      "source": [
        "fig, ax = plt.subplots(1, 1, facecolor=\"white\")\n",
        "review_size_df = reviews_df.groupby(\"reviewerID\").size()\n",
        "review_size_df.hist(ax=ax, bins=100)\n",
        "ax.set_xlabel(\"Num reviews\")\n",
        "ax.set_ylabel(\"Count\")\n",
        "ax.set_yscale(\"log\")\n",
        "plt.tight_layout()\n",
        "plt.show()\n",
        ""
      ],
      "execution_count": null,
      "outputs": []
    },
    {
      "cell_type": "markdown",
      "metadata": {
        "originalKey": "80b0e159-ccf0-4817-8d62-c0bb98f76bc9",
        "showInput": false,
        "customInput": null,
        "code_folding": [],
        "hidden_ranges": []
      },
      "source": [
        "# Debug"
      ],
      "attachments": {}
    },
    {
      "cell_type": "code",
      "metadata": {
        "originalKey": "75ed3923-c8a4-4ab0-9708-7ec8ece16da0",
        "showInput": true,
        "customInput": null,
        "code_folding": [],
        "hidden_ranges": [],
        "collapsed": false,
        "requestMsgId": "ed98c182-a38c-409b-9167-e31e32b76826",
        "executionStartTime": 1632058810440,
        "executionStopTime": 1632058818881
      },
      "source": [
        "# Load pkl\n",
        "t0 = time.time()\n",
        "pkl_data = read_data_from_manifold(\n",
        "    f\"{data_dir}/{category}.pkl\",\n",
        "    is_from_pkl=True,\n",
        ")\n",
        "print(f\"In {time.time()-t0:.2f}\")\n",
        ""
      ],
      "execution_count": null,
      "outputs": []
    },
    {
      "cell_type": "code",
      "metadata": {
        "originalKey": "2f95c203-0a89-4dae-81a0-9bf57b0bd5e1",
        "showInput": true,
        "customInput": null,
        "collapsed": false,
        "requestMsgId": "366068d9-772a-48a5-8ec2-2be93e441192",
        "executionStartTime": 1632058818998,
        "executionStopTime": 1632058819498,
        "code_folding": [],
        "hidden_ranges": []
      },
      "source": [
        "train_set, test_set = pkl_data[\"train_set\"], pkl_data[\"test_set\"]\n",
        ""
      ],
      "execution_count": null,
      "outputs": []
    },
    {
      "cell_type": "code",
      "metadata": {
        "originalKey": "e66d839e-0fdf-46d8-9f90-b7c056dedbda",
        "showInput": true,
        "customInput": null,
        "collapsed": false,
        "requestMsgId": "226ccae0-e2ce-4d95-882e-f96e07fb463e",
        "executionStopTime": 1632058820253,
        "code_folding": [],
        "hidden_ranges": [],
        "executionStartTime": 1632058819698
      },
      "source": [
        "user_id, item_id = train_set[:, 0], train_set[:, 1]\n",
        "\n",
        "user_hist = np.bincount(user_id)\n",
        "user_hist.sort()\n",
        "\n",
        "item_hist = np.bincount(item_id)\n",
        "item_hist.sort()\n",
        "\n",
        "plt.plot(user_hist[::-1])\n",
        "plt.yscale(\"symlog\")\n",
        "plt.title(\"Train user hist\")\n",
        "\n",
        "plt.show()\n",
        "\n",
        "plt.plot(item_hist[::-1])\n",
        "plt.yscale(\"symlog\")\n",
        "plt.title(\"Train item hist\")\n",
        "\n",
        "plt.show()\n",
        "print(user_hist[:00])\n",
        ""
      ],
      "execution_count": null,
      "outputs": []
    },
    {
      "cell_type": "code",
      "metadata": {
        "originalKey": "6b335b02-8047-487c-a45b-9b1188e80d5d",
        "showInput": true,
        "customInput": null,
        "code_folding": [],
        "hidden_ranges": [],
        "collapsed": false,
        "requestMsgId": "5475fe75-6f92-4032-a3c3-faf3a2fe4871",
        "executionStartTime": 1632058820321,
        "executionStopTime": 1632058820895
      },
      "source": [
        "user_id, item_id = test_set[:, 0], test_set[:, 1]\n",
        "\n",
        "user_hist = np.bincount(user_id)\n",
        "user_hist.sort()\n",
        "\n",
        "item_hist = np.bincount(item_id)\n",
        "item_hist.sort()\n",
        "\n",
        "plt.plot(user_hist[::-1])\n",
        "plt.yscale(\"symlog\")\n",
        "plt.title('Test user hist')\n",
        "plt.show()\n",
        "\n",
        "plt.plot(item_hist[::-1])\n",
        "plt.yscale(\"symlog\")\n",
        "plt.title('Test item hist')\n",
        "plt.show()\n",
        ""
      ],
      "execution_count": null,
      "outputs": []
    },
    {
      "cell_type": "code",
      "metadata": {
        "originalKey": "0c620b2b-0226-4a7a-b7d6-33621b5157de",
        "showInput": true,
        "customInput": null,
        "code_folding": [],
        "hidden_ranges": [],
        "collapsed": false,
        "requestMsgId": "41a03169-9952-417a-80fa-008681161363",
        "executionStartTime": 1632058821090,
        "executionStopTime": 1632058821213
      },
      "source": [
        "reviews_df = pkl_data[\"reviews_df\"]\n",
        "user_count = pkl_data[\"user_count\"]\n",
        "item_count = pkl_data[\"item_count\"]\n",
        "example_count = pkl_data[\"example_count\"]\n",
        "reviews_df = pkl_data[\"reviews_df\"]\n",
        ""
      ],
      "execution_count": null,
      "outputs": []
    },
    {
      "cell_type": "code",
      "metadata": {
        "originalKey": "aa5eac59-4dda-4361-861c-86b9d7a67784",
        "showInput": true,
        "customInput": null,
        "code_folding": [],
        "hidden_ranges": [],
        "collapsed": false,
        "requestMsgId": "32e56b26-6d6b-41f4-9344-c71510cf3c5f",
        "executionStartTime": 1632058821290,
        "executionStopTime": 1632058821553
      },
      "source": [
        "reviews_df[reviews_df['reviewerID'] ==2 ]"
      ],
      "execution_count": null,
      "outputs": []
    },
    {
      "cell_type": "code",
      "metadata": {
        "originalKey": "4f72354a-e4b6-4ee4-8711-3dc66243d8cb",
        "showInput": true,
        "customInput": null,
        "code_folding": [],
        "hidden_ranges": [],
        "collapsed": false,
        "requestMsgId": "f90f323e-da58-4788-badb-8d6d3f66101a",
        "executionStartTime": 1632058821703,
        "executionStopTime": 1632058821866
      },
      "source": [
        "train_set[train_set[:,1] ==13104]"
      ],
      "execution_count": null,
      "outputs": []
    },
    {
      "cell_type": "code",
      "metadata": {
        "originalKey": "f68191d4-14d9-4e48-9963-66793a9e81a7",
        "showInput": true,
        "customInput": null,
        "collapsed": false,
        "requestMsgId": "c28e2efb-4f05-4520-9d0b-55dbc33613e2",
        "executionStartTime": 1632058821891,
        "executionStopTime": 1632058822145,
        "code_folding": [],
        "hidden_ranges": []
      },
      "source": [
        "meta_df = pkl_data['meta_df']"
      ],
      "execution_count": null,
      "outputs": []
    },
    {
      "cell_type": "code",
      "metadata": {
        "originalKey": "85bf9b4f-d7cb-4922-b19f-bf32bcdd36fd",
        "showInput": true,
        "customInput": null,
        "collapsed": false,
        "requestMsgId": "3ba49305-82a4-4523-9016-6cc721e75148",
        "executionStartTime": 1632058822224,
        "executionStopTime": 1632058822476
      },
      "source": [
        "meta_df"
      ],
      "execution_count": null,
      "outputs": []
    },
    {
      "cell_type": "code",
      "metadata": {
        "originalKey": "e571ee7e-a97a-4c4e-af9b-75571871b692",
        "showInput": true,
        "customInput": null,
        "code_folding": [],
        "hidden_ranges": [],
        "collapsed": false,
        "requestMsgId": "1c930081-389d-4571-98e8-b5d06ea1c11a",
        "executionStartTime": 1632058822540,
        "executionStopTime": 1632058851308
      },
      "source": [
        "# Load pkl\n",
        "t0 = time.time()\n",
        "meta_raw = read_data_from_manifold(\n",
        "    f\"{data_dir}/meta_{category}.pkl\",\n",
        "    is_from_pkl=True,\n",
        ")\n",
        "print(f\"In {time.time()-t0:.2f}\")\n",
        ""
      ],
      "execution_count": null,
      "outputs": []
    },
    {
      "cell_type": "code",
      "metadata": {
        "originalKey": "8e96644b-ff8c-4335-8421-1f1d1e4c8e26",
        "showInput": true,
        "customInput": null,
        "collapsed": false,
        "requestMsgId": "78fcab34-ba2a-4920-b99c-bfadd54b9ad1",
        "code_folding": [],
        "hidden_ranges": [],
        "executionStopTime": 1632058874791,
        "executionStartTime": 1632058851349
      },
      "source": [
        "df = pd.read_pickle(meta_raw)"
      ],
      "execution_count": null,
      "outputs": []
    },
    {
      "cell_type": "code",
      "metadata": {
        "originalKey": "5dcc4ffb-1bba-4cea-ab7a-c21e2d065891",
        "showInput": true,
        "customInput": null,
        "collapsed": false,
        "requestMsgId": "6ca0a69e-b98e-44fe-810b-0afc5740b3e6",
        "executionStartTime": 1632058874991,
        "executionStopTime": 1632058875361,
        "code_folding": [],
        "hidden_ranges": []
      },
      "source": [
        "df['categories'].values"
      ],
      "execution_count": null,
      "outputs": []
    },
    {
      "cell_type": "code",
      "metadata": {
        "originalKey": "fdb93c82-d482-4555-a5c9-8eaea5dd79f0",
        "showInput": true,
        "customInput": null,
        "collapsed": false,
        "requestMsgId": "acf3d0c6-db4e-4596-9087-dfabb258d544",
        "executionStartTime": 1632058875556,
        "executionStopTime": 1632058888296,
        "code_folding": [],
        "hidden_ranges": []
      },
      "source": [
        "# for cat in df[\"categories\"]:\n",
        "#     print(cat)\n",
        "categories  = []\n",
        "for df_categories in df[\"categories\"]:\n",
        "    longest_list_idx = np.argmax([len(list_i) for list_i in df_categories])\n",
        "    categories.append(' '.join(df_categories[longest_list_idx]))\n",
        "print(pd.unique(categories))\n",
        "# print(df[\"categories\"].map(lambda x: '_'.join(x[-1])).unique())"
      ],
      "execution_count": null,
      "outputs": []
    },
    {
      "cell_type": "code",
      "metadata": {
        "originalKey": "8e263a0b-979a-49e4-9547-ea4d028dc402",
        "showInput": true,
        "customInput": null,
        "collapsed": false,
        "requestMsgId": "d3fd3575-4bfb-4f59-b169-781d013e1f2c",
        "executionStartTime": 1632059263517,
        "executionStopTime": 1632059266291,
        "code_folding": [],
        "hidden_ranges": []
      },
      "source": [
        "category_list = []\n",
        "lengths = []\n",
        "for raw in df[\"categories\"]:\n",
        "    for raw_i in raw:\n",
        "        if raw_i[0] != 'Clothing, Shoes & Jewelry':\n",
        "            continue\n",
        "        if len(raw_i) <= 2:\n",
        "            continue\n",
        "        prefix = \" \".join(raw_i)\n",
        "        category_list.append(prefix)\n",
        "        lengths.append(len(raw_i))\n",
        ""
      ],
      "execution_count": null,
      "outputs": []
    },
    {
      "cell_type": "code",
      "metadata": {
        "originalKey": "00f87f98-358e-48b6-a984-11cf5c6da524",
        "showInput": true,
        "customInput": null,
        "code_folding": [],
        "hidden_ranges": [],
        "collapsed": false,
        "requestMsgId": "7b844876-bb2c-4b8e-af63-b6a7f29ece00",
        "executionStartTime": 1632059266359,
        "executionStopTime": 1632059266641
      },
      "source": [
        "len(category_list), len(df)"
      ],
      "execution_count": null,
      "outputs": []
    },
    {
      "cell_type": "code",
      "metadata": {
        "originalKey": "7e9031ec-7f41-46f6-a363-c4f9275fd8ad",
        "showInput": true,
        "customInput": null,
        "collapsed": false,
        "requestMsgId": "44f6340e-4659-4d70-bf59-784788723eb2",
        "executionStartTime": 1632060454557,
        "executionStopTime": 1632060454867,
        "code_folding": [],
        "hidden_ranges": []
      },
      "source": [
        "df[\"categories\"][0]"
      ],
      "execution_count": 212,
      "outputs": [
        {
          "output_type": "execute_result",
          "data": {
            "text/plain": "[['Clothing, Shoes & Jewelry', 'Girls'],\n ['Clothing, Shoes & Jewelry',\n  'Novelty, Costumes & More',\n  'Costumes & Accessories',\n  'More Accessories',\n  'Kids & Baby']]"
          },
          "metadata": {
            "bento_obj_id": "140566435179840"
          },
          "execution_count": 212
        }
      ]
    },
    {
      "cell_type": "code",
      "metadata": {
        "originalKey": "7f30e2c5-6a72-4536-b6db-c414ab59fce2",
        "showInput": true,
        "customInput": null,
        "code_folding": [],
        "hidden_ranges": [],
        "collapsed": false,
        "requestMsgId": "276355cd-11b0-4b6a-ac37-7eac9eb08ce0",
        "executionStartTime": 1632058989990,
        "executionStopTime": 1632058990166
      },
      "source": [
        "len(train_set), len(test_set)"
      ],
      "execution_count": null,
      "outputs": []
    },
    {
      "cell_type": "code",
      "metadata": {
        "originalKey": "e67b2b39-8b30-4052-814f-2d982ca14072",
        "showInput": true,
        "customInput": null,
        "code_folding": [],
        "hidden_ranges": [],
        "collapsed": false,
        "requestMsgId": "9cb90373-0cd4-4e56-86ee-b06c3242163f",
        "executionStartTime": 1632058990170,
        "executionStopTime": 1632058990258
      },
      "source": [
        "a  =[1,2] + list([2] if False else [])\n",
        "print(a)"
      ],
      "execution_count": null,
      "outputs": []
    },
    {
      "cell_type": "code",
      "metadata": {
        "originalKey": "cf9fc0c2-e143-40a7-b3af-6d5a69d09ce1",
        "showInput": true,
        "customInput": null,
        "code_folding": [],
        "hidden_ranges": [],
        "collapsed": false,
        "requestMsgId": "19ada37c-a8ad-4423-920d-7eb961f05042",
        "executionStartTime": 1632058990316,
        "executionStopTime": 1632058990604
      },
      "source": [
        "list([2])"
      ],
      "execution_count": null,
      "outputs": []
    },
    {
      "cell_type": "code",
      "metadata": {
        "originalKey": "ab1dcdbc-e35b-4bf3-9229-3c1a78607e84",
        "showInput": true,
        "customInput": null,
        "collapsed": false,
        "requestMsgId": "d9aca231-dc55-4b25-b05e-36b22f327480",
        "executionStartTime": 1632058990630,
        "executionStopTime": 1632058990817
      },
      "source": [
        ""
      ],
      "execution_count": null,
      "outputs": []
    }
  ]
}

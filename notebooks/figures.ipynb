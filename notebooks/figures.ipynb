{
 "cells": [
  {
   "cell_type": "code",
   "execution_count": 1,
   "metadata": {},
   "outputs": [],
   "source": [
    "import matplotlib.pyplot as plt\n",
    "import numpy as np\n",
    "import os\n",
    "import os.path as osp\n",
    "from adjustText import adjust_text\n"
   ]
  },
  {
   "cell_type": "code",
   "execution_count": 4,
   "metadata": {},
   "outputs": [],
   "source": [
    "out_dir = \"../outputs/figures\"\n",
    "os.makedirs(out_dir, exist_ok=True)\n"
   ]
  },
  {
   "cell_type": "code",
   "execution_count": null,
   "metadata": {},
   "outputs": [],
   "source": [
    "map_dict = {\n",
    "    \"Clothing\": {\n",
    "        \"cf_weight\": [0, 1, 1.5, 2, 2.5, 3, 3.5, 4, 4.5, 5],\n",
    "        \"map\": [0.341, 0.347, 0.346, 0.348, 0.343, 0.344, 0.339, 0.341, 0.340, 0.341],\n",
    "    },\n",
    "    \"Beauty\": {\n",
    "        \"cf_weight\": [0, 1, 1.5, 2, 2.5, 3, 3.5, 4, 4.5, 5],\n",
    "        \"map\": [0.387, 0.390, 0.389, 0.389, 0.386, 0.383, 0.384, 0.381, 0.382, 0.379],\n",
    "    },\n",
    "    \"Toys\": {\n",
    "        \"cf_weight\": [0, 1, 1.5, 2, 2.5, 3, 3.5, 4, 4.5, 5],\n",
    "        \"map\": [0.394, 0.398, 0.402, 0.403, 0.407, 0.403, 0.405, 0.403, 0.404, 0.404],\n",
    "    },\n",
    "}\n",
    "\n",
    "for dataset, res_dict in map_dict.items():\n",
    "    map_dict[dataset][\"improvement\"] = np.array(res_dict[\"map\"]) / res_dict[\"map\"][0]\n",
    "\n",
    "\n",
    "# for x,y in zip(xs,ys):\n",
    "\n",
    "#     label = \"{:.2f}\".format(y)\n",
    "\n",
    "#     plt.annotate(label, # this is the text\n",
    "#                  (x,y), # these are the coordinates to position the label\n",
    "#                  textcoords=\"offset points\", # how to position the text\n",
    "#                  xytext=(0,10), # distance from text to points (x,y)\n",
    "#                  ha='center') # horizontal alignment can be left, right or center\n"
   ]
  },
  {
   "cell_type": "code",
   "execution_count": null,
   "metadata": {},
   "outputs": [],
   "source": [
    "fig, ax = plt.subplots(1, 1, figsize=(5, 3), dpi=100)\n",
    "for dataset, res_dict in map_dict.items():\n",
    "    ax.plot(res_dict[\"cf_weight\"], res_dict[\"map\"], \"-*\", label=dataset)\n",
    "\n",
    "    for i, value in enumerate(res_dict[\"improvement\"]):\n",
    "        if i == 0:\n",
    "            continue\n",
    "        x, y = res_dict[\"cf_weight\"][i], res_dict[\"map\"][i]\n",
    "        value_str = \"{:.1f}%\".format(value * 100 - 100)\n",
    "        plt.annotate(\n",
    "            value_str,  # this is the text\n",
    "            (x, y),  # these are the coordinates to position the label\n",
    "            textcoords=\"offset points\",  # how to position the text\n",
    "            xytext=(0, 6),  # distance from text to points (x,y)\n",
    "            ha=\"center\",\n",
    "            size=8,\n",
    "        )  # horizontal alignment can be left, right or center\n",
    "ax.set_xlabel(\"CF weight\")\n",
    "ax.set_ylabel(\"mAP\")\n",
    "ax.legend()\n",
    "plt.tight_layout()\n",
    "plt.show()\n"
   ]
  },
  {
   "cell_type": "code",
   "execution_count": null,
   "metadata": {},
   "outputs": [],
   "source": [
    " np.array(res_dict['map']) / res_dict['map'][0]"
   ]
  },
  {
   "cell_type": "code",
   "execution_count": 15,
   "metadata": {},
   "outputs": [],
   "source": [
    "map_dict = {\n",
    "    # \"Clothing\": {\n",
    "    #     \"label_ratio\": [0, 1, 1.5, 2, 2.5, 3, 3.5, 4, 4.5, 5],\n",
    "    #     \"baseline\": [0.341, 0.347, 0.346, 0.348, 0.343, 0.344, 0.339, 0.341, 0.340, 0.341],\n",
    "    #     \"cf\": [0.341, 0.347, 0.346, 0.348, 0.343, 0.344, 0.339, 0.341, 0.340, 0.341],\n",
    "    # },\n",
    "    # \"Beauty\": {\n",
    "    #     \"label_ratio\": [0, 1, 1.5, 2, 2.5, 3, 3.5, 4, 4.5, 5],\n",
    "    #     \"baseline\": [0.341, 0.347, 0.346, 0.348, 0.343, 0.344, 0.339, 0.341, 0.340, 0.341],\n",
    "    #     \"cf\": [0.341, 0.347, 0.346, 0.348, 0.343, 0.344, 0.339, 0.341, 0.340, 0.341],\n",
    "    # },\n",
    "    \"Toys\": {\n",
    "        \"label_ratio\": [0.4,0.5,0.6,0.7,0.8,0.9,1.0],\n",
    "        \"cf\": [0.323, 0.358, 0.376, 0.392, 0.396, 0.410, 0.407],\n",
    "        \"baseline\": [0.313, 0.338, 0.357, 0.369, 0.390,0.400,0.407],\n",
    "    },\n",
    "}\n",
    "\n",
    "for dataset, res_dict in map_dict.items():\n",
    "    map_dict[dataset][\"improvement\"] = np.array(res_dict[\"cf\"]) / res_dict[\"baseline\"]\n",
    "\n"
   ]
  },
  {
   "cell_type": "code",
   "execution_count": 16,
   "metadata": {},
   "outputs": [
    {
     "data": {
      "image/png": "[encoded data removed]",
      "text/plain": [
       "<Figure size 250x250 with 1 Axes>"
      ]
     },
     "metadata": {
      "needs_background": "light"
     },
     "output_type": "display_data"
    },
    {
     "name": "stdout",
     "output_type": "stream",
     "text": [
      "/home/ubuntu/cactus/outputs/figures/toys_label_ratio.pdf\n"
     ]
    }
   ],
   "source": [
    "for dataset, res_dict in map_dict.items():\n",
    "    # for dataset, res_dict in map_dict.items():\n",
    "    fig, ax = plt.subplots(1, 1, figsize=(2.5, 2.5), dpi=100)\n",
    "    plt.locator_params(axis='y', nbins=4)\n",
    "    ax.plot(res_dict[\"label_ratio\"], res_dict[\"baseline\"], \"-o\", label='Baseline', color=\"blue\",markersize=3,alpha=0.75,)\n",
    "    ax.plot(res_dict[\"label_ratio\"], res_dict[\"cf\"], \"-o\", label='MTL',color=\"red\",markersize=3,alpha=0.75,)\n",
    "\n",
    "    texts = []\n",
    "    for i, value in enumerate(res_dict[\"improvement\"]):\n",
    "        x, y = res_dict[\"label_ratio\"][i], res_dict[\"cf\"][i]\n",
    "        value_precentage = value * 100 - 100\n",
    "        value_str = \"{}{:.1f}%\".format('+' if value_precentage>0 else '-',value_precentage)\n",
    "        text = plt.annotate(\n",
    "            value_str,  # this is the text\n",
    "            (x, y),  # these are the coordinates to position the label\n",
    "            textcoords=\"offset points\",  # how to position the text\n",
    "            xytext=(-10, 15),  # distance from text to points (x,y)\n",
    "            ha=\"center\",\n",
    "            size=8,\n",
    "        )  # hoizontal alignment can be left, right or center\n",
    "        texts.append(text)\n",
    "\n",
    "    ax.set_xlabel(\"Label ratio\")\n",
    "    ax.set_ylabel(\"mAP\")\n",
    "    map_max = np.max([res_dict[\"cf\"],res_dict[\"baseline\"]])\n",
    "    map_min = np.min([res_dict[\"cf\"],res_dict[\"baseline\"]])\n",
    "    ax.set_ylim(map_min-0.005,map_max+0.015)\n",
    "    ax.set_xlim(res_dict[\"label_ratio\"][0]-0.15,res_dict[\"label_ratio\"][-1]+0.1)\n",
    "    ax.legend()\n",
    "    # plt.tight_layout()\n",
    "    out_path =osp.join(out_dir,'toys_label_ratio.pdf')\n",
    "    plt.savefig(out_path)\n",
    "    plt.show()\n",
    "    print(osp.abspath(out_path))\n"
   ]
  },
  {
   "cell_type": "code",
   "execution_count": null,
   "metadata": {},
   "outputs": [],
   "source": []
  }
 ],
 "metadata": {
  "interpreter": {
   "hash": "93276fba55acec72ebf09ca3f12064a0f60315826507a886c17c3c32ba5acdb2"
  },
  "kernelspec": {
   "display_name": "Python 3.9.7 64-bit ('cactus': conda)",
   "language": "python",
   "name": "python3"
  },
  "language_info": {
   "codemirror_mode": {
    "name": "ipython",
    "version": 3
   },
   "file_extension": ".py",
   "mimetype": "text/x-python",
   "name": "python",
   "nbconvert_exporter": "python",
   "pygments_lexer": "ipython3",
   "version": "3.9.7"
  },
  "orig_nbformat": 4
 },
 "nbformat": 4,
 "nbformat_minor": 2
}

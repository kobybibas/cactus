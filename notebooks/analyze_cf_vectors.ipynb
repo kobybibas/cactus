{
  "cells": [
    {
      "cell_type": "code",
      "execution_count": 79,
      "metadata": {},
      "outputs": [],
      "source": [
        "import pandas as pd\n",
        "import os.path as osp\n",
        "import numpy as np\n",
        "from sklearn.metrics import pairwise_distances\n",
        "import matplotlib.image as mpimg\n",
        "import matplotlib.pyplot as plt\n"
      ]
    },
    {
      "cell_type": "code",
      "execution_count": 80,
      "metadata": {},
      "outputs": [],
      "source": [
        "data_dir = \"/data/amazon_dataset/\"\n",
        "category = \"Clothing_Shoes_and_Jewelry\"\n",
        "\n",
        "df_w_labels_path = \"../outputs/process_label_Clothing_Shoes_and_Jewelry_20211019_120707/df_w_labels.pkl\"\n",
        "\n",
        "base_path = \"../outputs/train_recommender_Clothing_Shoes_and_Jewelry_20211019_092258\"\n",
        "cf_vector_path = osp.join(base_path, \"cf_df.pkl\")\n"
      ]
    },
    {
      "cell_type": "code",
      "execution_count": 81,
      "metadata": {},
      "outputs": [],
      "source": [
        "# Load cf vectors\n",
        "cf_df = pd.read_pickle(cf_vector_path)\n",
        "\n",
        "# Load df with labels\n",
        "label_df = pd.read_pickle(df_w_labels_path)\n",
        "\n",
        "# Load datalaoder\n",
        "df = pd.merge(label_df, cf_df, on=[\"asin\"], how=\"inner\")\n"
      ]
    },
    {
      "cell_type": "code",
      "execution_count": 82,
      "metadata": {},
      "outputs": [],
      "source": [
        "# Pairwise distances\n",
        "cf_vectors = np.array(df[\"embs\"].tolist())\n",
        "dists = pairwise_distances(cf_vectors)\n",
        "np.fill_diagonal(dists, np.inf)\n"
      ]
    },
    {
      "cell_type": "code",
      "execution_count": 99,
      "metadata": {},
      "outputs": [],
      "source": []
    },
    {
      "cell_type": "code",
      "execution_count": 103,
      "metadata": {},
      "outputs": [
        {
          "name": "stdout",
          "output_type": "stream",
          "text": [
            "['Clothing, Shoes & Jewelry + Women']\n"
          ]
        }
      ],
      "source": [
        "def most_frequent(List):\n",
        "    return max(set(List), key = List.count)\n",
        "\n",
        "import itertools\n",
        "labels = list(itertools.chain.from_iterable(df[\"merged_labels\"].tolist()))\n",
        "label_most_freq = [most_frequent(labels)]\n",
        "print(label_most_freq)\n"
      ]
    },
    {
      "cell_type": "code",
      "execution_count": 104,
      "metadata": {},
      "outputs": [
        {
          "name": "stdout",
          "output_type": "stream",
          "text": [
            "2*intersection/All [CF Most_pop]=[0.37 0.27] 394\n"
          ]
        }
      ],
      "source": [
        "def calc_num_intersection(lst1, lst2):\n",
        "    return len(set(lst1).intersection(lst2))\n",
        "\n",
        "\n",
        "# Check how much closest items share the same label\n",
        "metric_accumulate, metric_accumulate_baseline = 0, 0\n",
        "no_label = 0\n",
        "for anchor_idx in range(len(dists)):\n",
        "    anchor_row = df.iloc[anchor_idx]\n",
        "\n",
        "    pos_idx = dists[anchor_idx].argmin()\n",
        "    dist = dists[anchor_idx][pos_idx]\n",
        "    pos_row = df.iloc[pos_idx]\n",
        "\n",
        "    label1 = anchor_row[\"merged_labels\"]\n",
        "    label2 = pos_row[\"merged_labels\"]\n",
        "\n",
        "    num_inter = calc_num_intersection(label1, label2)\n",
        "    num_total = len(label1) + len(label2) + np.finfo(\"float\").eps\n",
        "\n",
        "    metric = 2 * num_inter / num_total\n",
        "    metric_accumulate += metric\n",
        "\n",
        "    num_inter = calc_num_intersection(label1, label_most_freq)\n",
        "    num_total = len(label1) + len(label_most_freq) + np.finfo(\"float\").eps\n",
        "    metric = 2 * num_inter / num_total\n",
        "    metric_accumulate_baseline += metric\n",
        "\n",
        "    if len(label1) == 0:\n",
        "        no_label += 1\n",
        "\n",
        "\n",
        "print(\n",
        "    \"2*intersection/All [CF Most_pop]=[{:.2f} {:.2f}] {}\".format(\n",
        "        metric_accumulate/len(dists), metric_accumulate_baseline/len(dists),no_label )\n",
        ")\n"
      ]
    },
    {
      "cell_type": "markdown",
      "metadata": {},
      "source": [
        "# Visaulize Anchor and Postivie"
      ]
    },
    {
      "cell_type": "code",
      "execution_count": null,
      "metadata": {},
      "outputs": [],
      "source": [
        "num_anchors = 10\n",
        "anchor_idxs = np.random.randint(0, len(df), num_anchors)\n"
      ]
    },
    {
      "cell_type": "code",
      "execution_count": null,
      "metadata": {},
      "outputs": [],
      "source": [
        "def format_label(merged_labels):\n",
        "    return \"\\n\".join(\n",
        "        [\n",
        "            label.replace(\"Clothing, Shoes & Jewelry +\", f\"{i}.\") + \"\\n\"\n",
        "            for i, label in enumerate(merged_labels)\n",
        "        ]\n",
        "    )\n",
        "\n",
        "\n",
        "# Output Images\n",
        "fig, axs = plt.subplots(\n",
        "    len(anchor_idxs), 2, figsize=(20, 4 * len(anchor_idxs)), facecolor=\"white\"\n",
        ")\n",
        "for i, anchor_idx in enumerate(anchor_idxs):\n",
        "    anchor_row = df.iloc[anchor_idx]\n",
        "\n",
        "    pos_idx = dists[anchor_idx].argmin()\n",
        "    dist = dists[anchor_idx][pos_idx]\n",
        "    pos_row = df.iloc[pos_idx]\n",
        "\n",
        "    # Read Images\n",
        "    anchor_img = mpimg.imread(anchor_row[\"img_path\"])\n",
        "    pos_img = mpimg.imread(pos_row[\"img_path\"])\n",
        "\n",
        "    ax = axs[i, 0]\n",
        "    ax.imshow(anchor_img)\n",
        "    ax.set_xticks([])\n",
        "    ax.set_yticks([])\n",
        "\n",
        "    label = format_label(anchor_row[\"merged_labels\"])\n",
        "    ax.set_title(label)\n",
        "    ax.set_ylabel(f\"dist={dist:.2f}\")\n",
        "\n",
        "    ax = axs[i, 1]\n",
        "    ax.imshow(pos_img)\n",
        "\n",
        "    label = format_label(pos_row[\"merged_labels\"])\n",
        "    ax.set_title(label)\n",
        "    ax.set_xticks([])\n",
        "    ax.set_yticks([])\n",
        "\n",
        "\n",
        "plt.tight_layout()\n",
        "plt.show()\n"
      ]
    },
    {
      "cell_type": "code",
      "execution_count": null,
      "metadata": {},
      "outputs": [],
      "source": []
    },
    {
      "cell_type": "code",
      "execution_count": null,
      "metadata": {},
      "outputs": [],
      "source": []
    }
  ],
  "metadata": {
    "bento_stylesheets": {
      "bento/extensions/flow/main.css": true,
      "bento/extensions/kernel_selector/main.css": true,
      "bento/extensions/kernel_ui/main.css": true,
      "bento/extensions/new_kernel/main.css": true,
      "bento/extensions/system_usage/main.css": true,
      "bento/extensions/theme/main.css": true
    },
    "captumWidgetMessage": {},
    "interpreter": {
      "hash": "93276fba55acec72ebf09ca3f12064a0f60315826507a886c17c3c32ba5acdb2"
    },
    "kernelspec": {
      "display_name": "Python 3.9.7 64-bit ('cactus': conda)",
      "name": "python3"
    },
    "language_info": {
      "codemirror_mode": {
        "name": "ipython",
        "version": 3
      },
      "file_extension": ".py",
      "mimetype": "text/x-python",
      "name": "python",
      "nbconvert_exporter": "python",
      "pygments_lexer": "ipython3",
      "version": "3.9.7"
    },
    "last_base_url": "https://32410.od.fbinfra.net:443/",
    "last_kernel_id": "345c50df-204f-4371-b533-40cec5907823",
    "last_server_session_id": "5ee75c01-8b2f-4076-af96-4ed71f110de5",
    "outputWidgetContext": {},
    "widgets": {
      "application/vnd.jupyter.widget-state+json": {
        "state": {
          "087c11d5e7154d6dba12f9be262d208a": {
            "buffers": [],
            "state": {
              "_model_module": "@jupyter-widgets/controls",
              "_model_module_version": "1.5.0",
              "_model_name": "ProgressStyleModel",
              "_view_count": null,
              "_view_module": "@jupyter-widgets/base",
              "_view_module_version": "1.2.0",
              "_view_name": "StyleView",
              "bar_color": null,
              "description_width": ""
            }
          },
          "087c4982d0ab42218b50badad9d8dc6d": {
            "buffers": [],
            "state": {
              "_model_module": "@jupyter-widgets/controls",
              "_model_module_version": "1.5.0",
              "_model_name": "DescriptionStyleModel",
              "_view_count": null,
              "_view_module": "@jupyter-widgets/base",
              "_view_module_version": "1.2.0",
              "_view_name": "StyleView",
              "description_width": ""
            }
          },
          "459b6fa10d3e43d99aa472ffa40bdebe": {
            "buffers": [],
            "state": {
              "_dom_classes": [],
              "_model_module": "@jupyter-widgets/controls",
              "_model_module_version": "1.5.0",
              "_model_name": "HTMLModel",
              "_view_count": null,
              "_view_module": "@jupyter-widgets/controls",
              "_view_module_version": "1.5.0",
              "_view_name": "HTMLView",
              "description": "",
              "description_tooltip": null,
              "layout": "IPY_MODEL_cf82e9d5b251476a802a830db81597ff",
              "placeholder": "​",
              "style": "IPY_MODEL_6e0666c2efe848c2bc629d1566cb95c7",
              "value": " 491/492 [01:41&lt;00:00,  5.43it/s]"
            }
          },
          "55381769868d42359346dedd8d3cc9d7": {
            "buffers": [],
            "state": {
              "_dom_classes": [],
              "_model_module": "@jupyter-widgets/controls",
              "_model_module_version": "1.5.0",
              "_model_name": "HTMLModel",
              "_view_count": null,
              "_view_module": "@jupyter-widgets/controls",
              "_view_module_version": "1.5.0",
              "_view_name": "HTMLView",
              "description": "",
              "description_tooltip": null,
              "layout": "IPY_MODEL_b4dcbad6d9be4cc6a15f1ab5ac35af94",
              "placeholder": "​",
              "style": "IPY_MODEL_087c4982d0ab42218b50badad9d8dc6d",
              "value": "Validating: 100%"
            }
          },
          "6a4cbeb1c02b44f3a08f9eea8b94c123": {
            "buffers": [],
            "state": {
              "_model_module": "@jupyter-widgets/base",
              "_model_module_version": "1.2.0",
              "_model_name": "LayoutModel",
              "_view_count": null,
              "_view_module": "@jupyter-widgets/base",
              "_view_module_version": "1.2.0",
              "_view_name": "LayoutView",
              "align_content": null,
              "align_items": null,
              "align_self": null,
              "border": null,
              "bottom": null,
              "display": "inline-flex",
              "flex": null,
              "flex_flow": "row wrap",
              "grid_area": null,
              "grid_auto_columns": null,
              "grid_auto_flow": null,
              "grid_auto_rows": null,
              "grid_column": null,
              "grid_gap": null,
              "grid_row": null,
              "grid_template_areas": null,
              "grid_template_columns": null,
              "grid_template_rows": null,
              "height": null,
              "justify_content": null,
              "justify_items": null,
              "left": null,
              "margin": null,
              "max_height": null,
              "max_width": null,
              "min_height": null,
              "min_width": null,
              "object_fit": null,
              "object_position": null,
              "order": null,
              "overflow": null,
              "overflow_x": null,
              "overflow_y": null,
              "padding": null,
              "right": null,
              "top": null,
              "visibility": null,
              "width": "100%"
            }
          },
          "6e0666c2efe848c2bc629d1566cb95c7": {
            "buffers": [],
            "state": {
              "_model_module": "@jupyter-widgets/controls",
              "_model_module_version": "1.5.0",
              "_model_name": "DescriptionStyleModel",
              "_view_count": null,
              "_view_module": "@jupyter-widgets/base",
              "_view_module_version": "1.2.0",
              "_view_name": "StyleView",
              "description_width": ""
            }
          },
          "71ef642ffeb3455f91d55d8650910d5b": {
            "buffers": [],
            "state": {
              "_dom_classes": [],
              "_model_module": "@jupyter-widgets/controls",
              "_model_module_version": "1.5.0",
              "_model_name": "FloatProgressModel",
              "_view_count": null,
              "_view_module": "@jupyter-widgets/controls",
              "_view_module_version": "1.5.0",
              "_view_name": "ProgressView",
              "bar_style": "",
              "description": "",
              "description_tooltip": null,
              "layout": "IPY_MODEL_a48db1bb66ab47d6bb2de3c8a4e57513",
              "max": 492,
              "min": 0,
              "orientation": "horizontal",
              "style": "IPY_MODEL_087c11d5e7154d6dba12f9be262d208a",
              "value": 492
            }
          },
          "a48db1bb66ab47d6bb2de3c8a4e57513": {
            "buffers": [],
            "state": {
              "_model_module": "@jupyter-widgets/base",
              "_model_module_version": "1.2.0",
              "_model_name": "LayoutModel",
              "_view_count": null,
              "_view_module": "@jupyter-widgets/base",
              "_view_module_version": "1.2.0",
              "_view_name": "LayoutView",
              "align_content": null,
              "align_items": null,
              "align_self": null,
              "border": null,
              "bottom": null,
              "display": null,
              "flex": "2",
              "flex_flow": null,
              "grid_area": null,
              "grid_auto_columns": null,
              "grid_auto_flow": null,
              "grid_auto_rows": null,
              "grid_column": null,
              "grid_gap": null,
              "grid_row": null,
              "grid_template_areas": null,
              "grid_template_columns": null,
              "grid_template_rows": null,
              "height": null,
              "justify_content": null,
              "justify_items": null,
              "left": null,
              "margin": null,
              "max_height": null,
              "max_width": null,
              "min_height": null,
              "min_width": null,
              "object_fit": null,
              "object_position": null,
              "order": null,
              "overflow": null,
              "overflow_x": null,
              "overflow_y": null,
              "padding": null,
              "right": null,
              "top": null,
              "visibility": null,
              "width": null
            }
          },
          "b4dcbad6d9be4cc6a15f1ab5ac35af94": {
            "buffers": [],
            "state": {
              "_model_module": "@jupyter-widgets/base",
              "_model_module_version": "1.2.0",
              "_model_name": "LayoutModel",
              "_view_count": null,
              "_view_module": "@jupyter-widgets/base",
              "_view_module_version": "1.2.0",
              "_view_name": "LayoutView",
              "align_content": null,
              "align_items": null,
              "align_self": null,
              "border": null,
              "bottom": null,
              "display": null,
              "flex": null,
              "flex_flow": null,
              "grid_area": null,
              "grid_auto_columns": null,
              "grid_auto_flow": null,
              "grid_auto_rows": null,
              "grid_column": null,
              "grid_gap": null,
              "grid_row": null,
              "grid_template_areas": null,
              "grid_template_columns": null,
              "grid_template_rows": null,
              "height": null,
              "justify_content": null,
              "justify_items": null,
              "left": null,
              "margin": null,
              "max_height": null,
              "max_width": null,
              "min_height": null,
              "min_width": null,
              "object_fit": null,
              "object_position": null,
              "order": null,
              "overflow": null,
              "overflow_x": null,
              "overflow_y": null,
              "padding": null,
              "right": null,
              "top": null,
              "visibility": null,
              "width": null
            }
          },
          "cf82e9d5b251476a802a830db81597ff": {
            "buffers": [],
            "state": {
              "_model_module": "@jupyter-widgets/base",
              "_model_module_version": "1.2.0",
              "_model_name": "LayoutModel",
              "_view_count": null,
              "_view_module": "@jupyter-widgets/base",
              "_view_module_version": "1.2.0",
              "_view_name": "LayoutView",
              "align_content": null,
              "align_items": null,
              "align_self": null,
              "border": null,
              "bottom": null,
              "display": null,
              "flex": null,
              "flex_flow": null,
              "grid_area": null,
              "grid_auto_columns": null,
              "grid_auto_flow": null,
              "grid_auto_rows": null,
              "grid_column": null,
              "grid_gap": null,
              "grid_row": null,
              "grid_template_areas": null,
              "grid_template_columns": null,
              "grid_template_rows": null,
              "height": null,
              "justify_content": null,
              "justify_items": null,
              "left": null,
              "margin": null,
              "max_height": null,
              "max_width": null,
              "min_height": null,
              "min_width": null,
              "object_fit": null,
              "object_position": null,
              "order": null,
              "overflow": null,
              "overflow_x": null,
              "overflow_y": null,
              "padding": null,
              "right": null,
              "top": null,
              "visibility": null,
              "width": null
            }
          },
          "fef8aa76d49d4ac3a708885797b43d00": {
            "buffers": [],
            "state": {
              "_dom_classes": [],
              "_model_module": "@jupyter-widgets/controls",
              "_model_module_version": "1.5.0",
              "_model_name": "HBoxModel",
              "_view_count": null,
              "_view_module": "@jupyter-widgets/controls",
              "_view_module_version": "1.5.0",
              "_view_name": "HBoxView",
              "box_style": "",
              "children": [
                "IPY_MODEL_55381769868d42359346dedd8d3cc9d7",
                "IPY_MODEL_71ef642ffeb3455f91d55d8650910d5b",
                "IPY_MODEL_459b6fa10d3e43d99aa472ffa40bdebe"
              ],
              "layout": "IPY_MODEL_6a4cbeb1c02b44f3a08f9eea8b94c123"
            }
          }
        }
      }
    }
  },
  "nbformat": 4,
  "nbformat_minor": 2
}

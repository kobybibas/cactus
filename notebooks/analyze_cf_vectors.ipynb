{
  "metadata": {
    "bento_stylesheets": {
      "bento/extensions/flow/main.css": true,
      "bento/extensions/kernel_selector/main.css": true,
      "bento/extensions/kernel_ui/main.css": true,
      "bento/extensions/new_kernel/main.css": true,
      "bento/extensions/system_usage/main.css": true,
      "bento/extensions/theme/main.css": true
    },
    "kernelspec": {
      "name": "python3",
      "display_name": "Python 3.9.7 64-bit ('cactus': conda)"
    },
    "language_info": {
      "codemirror_mode": {
        "name": "ipython",
        "version": 3
      },
      "file_extension": ".py",
      "mimetype": "text/x-python",
      "name": "python",
      "nbconvert_exporter": "python",
      "pygments_lexer": "ipython3",
      "version": "3.9.7"
    },
    "last_server_session_id": "5ee75c01-8b2f-4076-af96-4ed71f110de5",
    "last_kernel_id": "345c50df-204f-4371-b533-40cec5907823",
    "last_base_url": "https://32410.od.fbinfra.net:443/",
    "widgets": {
      "application/vnd.jupyter.widget-state+json": {
        "state": {
          "a48db1bb66ab47d6bb2de3c8a4e57513": {
            "state": {
              "_model_module": "@jupyter-widgets/base",
              "_model_module_version": "1.2.0",
              "_model_name": "LayoutModel",
              "_view_count": null,
              "_view_module": "@jupyter-widgets/base",
              "_view_module_version": "1.2.0",
              "_view_name": "LayoutView",
              "align_content": null,
              "align_items": null,
              "align_self": null,
              "border": null,
              "bottom": null,
              "display": null,
              "flex": "2",
              "flex_flow": null,
              "grid_area": null,
              "grid_auto_columns": null,
              "grid_auto_flow": null,
              "grid_auto_rows": null,
              "grid_column": null,
              "grid_gap": null,
              "grid_row": null,
              "grid_template_areas": null,
              "grid_template_columns": null,
              "grid_template_rows": null,
              "height": null,
              "justify_content": null,
              "justify_items": null,
              "left": null,
              "margin": null,
              "max_height": null,
              "max_width": null,
              "min_height": null,
              "min_width": null,
              "object_fit": null,
              "object_position": null,
              "order": null,
              "overflow": null,
              "overflow_x": null,
              "overflow_y": null,
              "padding": null,
              "right": null,
              "top": null,
              "visibility": null,
              "width": null
            },
            "buffers": []
          },
          "087c11d5e7154d6dba12f9be262d208a": {
            "state": {
              "_model_module": "@jupyter-widgets/controls",
              "_model_module_version": "1.5.0",
              "_model_name": "ProgressStyleModel",
              "_view_count": null,
              "_view_module": "@jupyter-widgets/base",
              "_view_module_version": "1.2.0",
              "_view_name": "StyleView",
              "bar_color": null,
              "description_width": ""
            },
            "buffers": []
          },
          "71ef642ffeb3455f91d55d8650910d5b": {
            "state": {
              "_dom_classes": [],
              "_model_module": "@jupyter-widgets/controls",
              "_model_module_version": "1.5.0",
              "_model_name": "FloatProgressModel",
              "_view_count": null,
              "_view_module": "@jupyter-widgets/controls",
              "_view_module_version": "1.5.0",
              "_view_name": "ProgressView",
              "bar_style": "",
              "description": "",
              "description_tooltip": null,
              "layout": "IPY_MODEL_a48db1bb66ab47d6bb2de3c8a4e57513",
              "max": 492,
              "min": 0,
              "orientation": "horizontal",
              "style": "IPY_MODEL_087c11d5e7154d6dba12f9be262d208a",
              "value": 492
            },
            "buffers": []
          },
          "b4dcbad6d9be4cc6a15f1ab5ac35af94": {
            "state": {
              "_model_module": "@jupyter-widgets/base",
              "_model_module_version": "1.2.0",
              "_model_name": "LayoutModel",
              "_view_count": null,
              "_view_module": "@jupyter-widgets/base",
              "_view_module_version": "1.2.0",
              "_view_name": "LayoutView",
              "align_content": null,
              "align_items": null,
              "align_self": null,
              "border": null,
              "bottom": null,
              "display": null,
              "flex": null,
              "flex_flow": null,
              "grid_area": null,
              "grid_auto_columns": null,
              "grid_auto_flow": null,
              "grid_auto_rows": null,
              "grid_column": null,
              "grid_gap": null,
              "grid_row": null,
              "grid_template_areas": null,
              "grid_template_columns": null,
              "grid_template_rows": null,
              "height": null,
              "justify_content": null,
              "justify_items": null,
              "left": null,
              "margin": null,
              "max_height": null,
              "max_width": null,
              "min_height": null,
              "min_width": null,
              "object_fit": null,
              "object_position": null,
              "order": null,
              "overflow": null,
              "overflow_x": null,
              "overflow_y": null,
              "padding": null,
              "right": null,
              "top": null,
              "visibility": null,
              "width": null
            },
            "buffers": []
          },
          "087c4982d0ab42218b50badad9d8dc6d": {
            "state": {
              "_model_module": "@jupyter-widgets/controls",
              "_model_module_version": "1.5.0",
              "_model_name": "DescriptionStyleModel",
              "_view_count": null,
              "_view_module": "@jupyter-widgets/base",
              "_view_module_version": "1.2.0",
              "_view_name": "StyleView",
              "description_width": ""
            },
            "buffers": []
          },
          "55381769868d42359346dedd8d3cc9d7": {
            "state": {
              "_dom_classes": [],
              "_model_module": "@jupyter-widgets/controls",
              "_model_module_version": "1.5.0",
              "_model_name": "HTMLModel",
              "_view_count": null,
              "_view_module": "@jupyter-widgets/controls",
              "_view_module_version": "1.5.0",
              "_view_name": "HTMLView",
              "description": "",
              "description_tooltip": null,
              "layout": "IPY_MODEL_b4dcbad6d9be4cc6a15f1ab5ac35af94",
              "placeholder": "​",
              "style": "IPY_MODEL_087c4982d0ab42218b50badad9d8dc6d",
              "value": "Validating: 100%"
            },
            "buffers": []
          },
          "cf82e9d5b251476a802a830db81597ff": {
            "state": {
              "_model_module": "@jupyter-widgets/base",
              "_model_module_version": "1.2.0",
              "_model_name": "LayoutModel",
              "_view_count": null,
              "_view_module": "@jupyter-widgets/base",
              "_view_module_version": "1.2.0",
              "_view_name": "LayoutView",
              "align_content": null,
              "align_items": null,
              "align_self": null,
              "border": null,
              "bottom": null,
              "display": null,
              "flex": null,
              "flex_flow": null,
              "grid_area": null,
              "grid_auto_columns": null,
              "grid_auto_flow": null,
              "grid_auto_rows": null,
              "grid_column": null,
              "grid_gap": null,
              "grid_row": null,
              "grid_template_areas": null,
              "grid_template_columns": null,
              "grid_template_rows": null,
              "height": null,
              "justify_content": null,
              "justify_items": null,
              "left": null,
              "margin": null,
              "max_height": null,
              "max_width": null,
              "min_height": null,
              "min_width": null,
              "object_fit": null,
              "object_position": null,
              "order": null,
              "overflow": null,
              "overflow_x": null,
              "overflow_y": null,
              "padding": null,
              "right": null,
              "top": null,
              "visibility": null,
              "width": null
            },
            "buffers": []
          },
          "6e0666c2efe848c2bc629d1566cb95c7": {
            "state": {
              "_model_module": "@jupyter-widgets/controls",
              "_model_module_version": "1.5.0",
              "_model_name": "DescriptionStyleModel",
              "_view_count": null,
              "_view_module": "@jupyter-widgets/base",
              "_view_module_version": "1.2.0",
              "_view_name": "StyleView",
              "description_width": ""
            },
            "buffers": []
          },
          "459b6fa10d3e43d99aa472ffa40bdebe": {
            "state": {
              "_dom_classes": [],
              "_model_module": "@jupyter-widgets/controls",
              "_model_module_version": "1.5.0",
              "_model_name": "HTMLModel",
              "_view_count": null,
              "_view_module": "@jupyter-widgets/controls",
              "_view_module_version": "1.5.0",
              "_view_name": "HTMLView",
              "description": "",
              "description_tooltip": null,
              "layout": "IPY_MODEL_cf82e9d5b251476a802a830db81597ff",
              "placeholder": "​",
              "style": "IPY_MODEL_6e0666c2efe848c2bc629d1566cb95c7",
              "value": " 491/492 [01:41&lt;00:00,  5.43it/s]"
            },
            "buffers": []
          },
          "6a4cbeb1c02b44f3a08f9eea8b94c123": {
            "state": {
              "_model_module": "@jupyter-widgets/base",
              "_model_module_version": "1.2.0",
              "_model_name": "LayoutModel",
              "_view_count": null,
              "_view_module": "@jupyter-widgets/base",
              "_view_module_version": "1.2.0",
              "_view_name": "LayoutView",
              "align_content": null,
              "align_items": null,
              "align_self": null,
              "border": null,
              "bottom": null,
              "display": "inline-flex",
              "flex": null,
              "flex_flow": "row wrap",
              "grid_area": null,
              "grid_auto_columns": null,
              "grid_auto_flow": null,
              "grid_auto_rows": null,
              "grid_column": null,
              "grid_gap": null,
              "grid_row": null,
              "grid_template_areas": null,
              "grid_template_columns": null,
              "grid_template_rows": null,
              "height": null,
              "justify_content": null,
              "justify_items": null,
              "left": null,
              "margin": null,
              "max_height": null,
              "max_width": null,
              "min_height": null,
              "min_width": null,
              "object_fit": null,
              "object_position": null,
              "order": null,
              "overflow": null,
              "overflow_x": null,
              "overflow_y": null,
              "padding": null,
              "right": null,
              "top": null,
              "visibility": null,
              "width": "100%"
            },
            "buffers": []
          },
          "fef8aa76d49d4ac3a708885797b43d00": {
            "state": {
              "_dom_classes": [],
              "_model_module": "@jupyter-widgets/controls",
              "_model_module_version": "1.5.0",
              "_model_name": "HBoxModel",
              "_view_count": null,
              "_view_module": "@jupyter-widgets/controls",
              "_view_module_version": "1.5.0",
              "_view_name": "HBoxView",
              "box_style": "",
              "children": [
                "IPY_MODEL_55381769868d42359346dedd8d3cc9d7",
                "IPY_MODEL_71ef642ffeb3455f91d55d8650910d5b",
                "IPY_MODEL_459b6fa10d3e43d99aa472ffa40bdebe"
              ],
              "layout": "IPY_MODEL_6a4cbeb1c02b44f3a08f9eea8b94c123"
            },
            "buffers": []
          }
        }
      }
    },
    "captumWidgetMessage": {},
    "outputWidgetContext": {},
    "interpreter": {
      "hash": "6d19cdbbdc4154bca0f6859bedaf89c9ca5792ca3a16f93b149c04015548a6d8"
    }
  },
  "nbformat": 4,
  "nbformat_minor": 2,
  "cells": [
    {
      "cell_type": "code",
      "execution_count": 1,
      "source": [
        "import pandas as pd\n",
        "import sys\n",
        "import os.path as osp\n",
        "\n",
        "sys.path.append('../src')"
      ],
      "outputs": [],
      "metadata": {}
    },
    {
      "cell_type": "code",
      "execution_count": 2,
      "source": [
        "data_dir =  \"/data/amazon_dataset/\"\n",
        "category =  'Clothing_Shoes_and_Jewelry'\n",
        "df_w_labels_path = '../outputs/process_label_Clothing_Shoes_and_Jewelry_20211007_074717/df_w_labels.pkl'\n",
        "\n",
        "# Load cf vectors\n",
        "cf_vector_path = '../outputs/train_recommender_Clothing_Shoes_and_Jewelry_20211006_122457/emb_df.pkl'\n",
        "cf_df = pd.read_pickle(cf_vector_path)\n",
        "\n",
        "# Load df with labels\n",
        "label_df = pd.read_pickle(df_w_labels_path)\n",
        "\n",
        "\n",
        "# Load datalaoder"
      ],
      "outputs": [],
      "metadata": {}
    },
    {
      "cell_type": "code",
      "execution_count": 6,
      "source": [
        "label_df"
      ],
      "outputs": [
        {
          "output_type": "execute_result",
          "data": {
            "text/html": [
              "<div>\n",
              "<style scoped>\n",
              "    .dataframe tbody tr th:only-of-type {\n",
              "        vertical-align: middle;\n",
              "    }\n",
              "\n",
              "    .dataframe tbody tr th {\n",
              "        vertical-align: top;\n",
              "    }\n",
              "\n",
              "    .dataframe thead th {\n",
              "        text-align: right;\n",
              "    }\n",
              "</style>\n",
              "<table border=\"1\" class=\"dataframe\">\n",
              "  <thead>\n",
              "    <tr style=\"text-align: right;\">\n",
              "      <th></th>\n",
              "      <th>asin</th>\n",
              "      <th>img_path</th>\n",
              "      <th>categories</th>\n",
              "      <th>merged_labels</th>\n",
              "      <th>label_vec</th>\n",
              "    </tr>\n",
              "  </thead>\n",
              "  <tbody>\n",
              "    <tr>\n",
              "      <th>1</th>\n",
              "      <td>0000031887</td>\n",
              "      <td>/data/amazon_dataset/Clothing_Shoes_and_Jewelr...</td>\n",
              "      <td>[[Clothing, Shoes &amp; Jewelry, Girls, Clothing, ...</td>\n",
              "      <td>[Clothing, Shoes &amp; Jewelry + Girls + Clothing]</td>\n",
              "      <td>[0, 0, 0, 0, 0, 0, 0, 0, 0, 0, 0, 0, 0, 0, 0, ...</td>\n",
              "    </tr>\n",
              "    <tr>\n",
              "      <th>2</th>\n",
              "      <td>0123456479</td>\n",
              "      <td>/data/amazon_dataset/Clothing_Shoes_and_Jewelr...</td>\n",
              "      <td>[[Clothing, Shoes &amp; Jewelry, Novelty, Costumes...</td>\n",
              "      <td>[Clothing, Shoes &amp; Jewelry + Novelty, Costumes...</td>\n",
              "      <td>[0, 0, 0, 0, 0, 0, 0, 0, 0, 0, 0, 0, 0, 0, 0, ...</td>\n",
              "    </tr>\n",
              "    <tr>\n",
              "      <th>36</th>\n",
              "      <td>1608299953</td>\n",
              "      <td>/data/amazon_dataset/Clothing_Shoes_and_Jewelr...</td>\n",
              "      <td>[[Clothing, Shoes &amp; Jewelry, Luggage &amp; Travel ...</td>\n",
              "      <td>[Clothing, Shoes &amp; Jewelry + Luggage &amp; Travel ...</td>\n",
              "      <td>[0, 0, 0, 0, 0, 0, 0, 0, 0, 0, 0, 0, 0, 0, 0, ...</td>\n",
              "    </tr>\n",
              "    <tr>\n",
              "      <th>47</th>\n",
              "      <td>1617160377</td>\n",
              "      <td>/data/amazon_dataset/Clothing_Shoes_and_Jewelr...</td>\n",
              "      <td>[[Clothing, Shoes &amp; Jewelry, Luggage &amp; Travel ...</td>\n",
              "      <td>[Clothing, Shoes &amp; Jewelry + Luggage &amp; Travel ...</td>\n",
              "      <td>[0, 0, 0, 0, 0, 0, 0, 0, 0, 0, 0, 0, 0, 0, 0, ...</td>\n",
              "    </tr>\n",
              "    <tr>\n",
              "      <th>267</th>\n",
              "      <td>B00001WRHJ</td>\n",
              "      <td>/data/amazon_dataset/Clothing_Shoes_and_Jewelr...</td>\n",
              "      <td>[[Clothing, Shoes &amp; Jewelry, Boys], [Clothing,...</td>\n",
              "      <td>[Clothing, Shoes &amp; Jewelry + Boys, Clothing, S...</td>\n",
              "      <td>[0, 0, 0, 0, 0, 0, 0, 0, 0, 0, 0, 0, 0, 0, 0, ...</td>\n",
              "    </tr>\n",
              "    <tr>\n",
              "      <th>...</th>\n",
              "      <td>...</td>\n",
              "      <td>...</td>\n",
              "      <td>...</td>\n",
              "      <td>...</td>\n",
              "      <td>...</td>\n",
              "    </tr>\n",
              "    <tr>\n",
              "      <th>1498773</th>\n",
              "      <td>B00KA602SY</td>\n",
              "      <td>/data/amazon_dataset/Clothing_Shoes_and_Jewelr...</td>\n",
              "      <td>[[Clothing, Shoes &amp; Jewelry, Women, Clothing, ...</td>\n",
              "      <td>[Clothing, Shoes &amp; Jewelry + Women + Clothing ...</td>\n",
              "      <td>[0, 0, 0, 0, 0, 0, 0, 0, 0, 0, 0, 0, 0, 0, 0, ...</td>\n",
              "    </tr>\n",
              "    <tr>\n",
              "      <th>1499617</th>\n",
              "      <td>B00KCWMG5S</td>\n",
              "      <td>/data/amazon_dataset/Clothing_Shoes_and_Jewelr...</td>\n",
              "      <td>[[Clothing, Shoes &amp; Jewelry, Women, Clothing, ...</td>\n",
              "      <td>[Clothing, Shoes &amp; Jewelry + Women + Clothing ...</td>\n",
              "      <td>[0, 0, 0, 0, 0, 0, 0, 0, 0, 0, 0, 0, 0, 0, 0, ...</td>\n",
              "    </tr>\n",
              "    <tr>\n",
              "      <th>1500055</th>\n",
              "      <td>B00KF9180W</td>\n",
              "      <td>/data/amazon_dataset/Clothing_Shoes_and_Jewelr...</td>\n",
              "      <td>[[Clothing, Shoes &amp; Jewelry, Men, Accessories,...</td>\n",
              "      <td>[Clothing, Shoes &amp; Jewelry + Men + Accessories...</td>\n",
              "      <td>[0, 0, 0, 0, 0, 0, 0, 0, 0, 0, 0, 0, 0, 0, 0, ...</td>\n",
              "    </tr>\n",
              "    <tr>\n",
              "      <th>1500301</th>\n",
              "      <td>B00KGCLROK</td>\n",
              "      <td>/data/amazon_dataset/Clothing_Shoes_and_Jewelr...</td>\n",
              "      <td>[[Sports &amp; Outdoors, Exercise &amp; Fitness, Yoga,...</td>\n",
              "      <td>[Clothing, Shoes &amp; Jewelry + Women + Clothing ...</td>\n",
              "      <td>[0, 0, 0, 0, 0, 0, 0, 0, 0, 0, 0, 0, 0, 0, 0, ...</td>\n",
              "    </tr>\n",
              "    <tr>\n",
              "      <th>1501151</th>\n",
              "      <td>B00KKXCJQU</td>\n",
              "      <td>/data/amazon_dataset/Clothing_Shoes_and_Jewelr...</td>\n",
              "      <td>[[Clothing, Shoes &amp; Jewelry, Luggage &amp; Travel ...</td>\n",
              "      <td>[Clothing, Shoes &amp; Jewelry + Luggage &amp; Travel ...</td>\n",
              "      <td>[0, 0, 0, 0, 0, 0, 0, 0, 0, 0, 0, 0, 0, 0, 0, ...</td>\n",
              "    </tr>\n",
              "  </tbody>\n",
              "</table>\n",
              "<p>23015 rows × 5 columns</p>\n",
              "</div>"
            ],
            "text/plain": [
              "               asin                                           img_path  \\\n",
              "1        0000031887  /data/amazon_dataset/Clothing_Shoes_and_Jewelr...   \n",
              "2        0123456479  /data/amazon_dataset/Clothing_Shoes_and_Jewelr...   \n",
              "36       1608299953  /data/amazon_dataset/Clothing_Shoes_and_Jewelr...   \n",
              "47       1617160377  /data/amazon_dataset/Clothing_Shoes_and_Jewelr...   \n",
              "267      B00001WRHJ  /data/amazon_dataset/Clothing_Shoes_and_Jewelr...   \n",
              "...             ...                                                ...   \n",
              "1498773  B00KA602SY  /data/amazon_dataset/Clothing_Shoes_and_Jewelr...   \n",
              "1499617  B00KCWMG5S  /data/amazon_dataset/Clothing_Shoes_and_Jewelr...   \n",
              "1500055  B00KF9180W  /data/amazon_dataset/Clothing_Shoes_and_Jewelr...   \n",
              "1500301  B00KGCLROK  /data/amazon_dataset/Clothing_Shoes_and_Jewelr...   \n",
              "1501151  B00KKXCJQU  /data/amazon_dataset/Clothing_Shoes_and_Jewelr...   \n",
              "\n",
              "                                                categories  \\\n",
              "1        [[Clothing, Shoes & Jewelry, Girls, Clothing, ...   \n",
              "2        [[Clothing, Shoes & Jewelry, Novelty, Costumes...   \n",
              "36       [[Clothing, Shoes & Jewelry, Luggage & Travel ...   \n",
              "47       [[Clothing, Shoes & Jewelry, Luggage & Travel ...   \n",
              "267      [[Clothing, Shoes & Jewelry, Boys], [Clothing,...   \n",
              "...                                                    ...   \n",
              "1498773  [[Clothing, Shoes & Jewelry, Women, Clothing, ...   \n",
              "1499617  [[Clothing, Shoes & Jewelry, Women, Clothing, ...   \n",
              "1500055  [[Clothing, Shoes & Jewelry, Men, Accessories,...   \n",
              "1500301  [[Sports & Outdoors, Exercise & Fitness, Yoga,...   \n",
              "1501151  [[Clothing, Shoes & Jewelry, Luggage & Travel ...   \n",
              "\n",
              "                                             merged_labels  \\\n",
              "1           [Clothing, Shoes & Jewelry + Girls + Clothing]   \n",
              "2        [Clothing, Shoes & Jewelry + Novelty, Costumes...   \n",
              "36       [Clothing, Shoes & Jewelry + Luggage & Travel ...   \n",
              "47       [Clothing, Shoes & Jewelry + Luggage & Travel ...   \n",
              "267      [Clothing, Shoes & Jewelry + Boys, Clothing, S...   \n",
              "...                                                    ...   \n",
              "1498773  [Clothing, Shoes & Jewelry + Women + Clothing ...   \n",
              "1499617  [Clothing, Shoes & Jewelry + Women + Clothing ...   \n",
              "1500055  [Clothing, Shoes & Jewelry + Men + Accessories...   \n",
              "1500301  [Clothing, Shoes & Jewelry + Women + Clothing ...   \n",
              "1501151  [Clothing, Shoes & Jewelry + Luggage & Travel ...   \n",
              "\n",
              "                                                 label_vec  \n",
              "1        [0, 0, 0, 0, 0, 0, 0, 0, 0, 0, 0, 0, 0, 0, 0, ...  \n",
              "2        [0, 0, 0, 0, 0, 0, 0, 0, 0, 0, 0, 0, 0, 0, 0, ...  \n",
              "36       [0, 0, 0, 0, 0, 0, 0, 0, 0, 0, 0, 0, 0, 0, 0, ...  \n",
              "47       [0, 0, 0, 0, 0, 0, 0, 0, 0, 0, 0, 0, 0, 0, 0, ...  \n",
              "267      [0, 0, 0, 0, 0, 0, 0, 0, 0, 0, 0, 0, 0, 0, 0, ...  \n",
              "...                                                    ...  \n",
              "1498773  [0, 0, 0, 0, 0, 0, 0, 0, 0, 0, 0, 0, 0, 0, 0, ...  \n",
              "1499617  [0, 0, 0, 0, 0, 0, 0, 0, 0, 0, 0, 0, 0, 0, 0, ...  \n",
              "1500055  [0, 0, 0, 0, 0, 0, 0, 0, 0, 0, 0, 0, 0, 0, 0, ...  \n",
              "1500301  [0, 0, 0, 0, 0, 0, 0, 0, 0, 0, 0, 0, 0, 0, 0, ...  \n",
              "1501151  [0, 0, 0, 0, 0, 0, 0, 0, 0, 0, 0, 0, 0, 0, 0, ...  \n",
              "\n",
              "[23015 rows x 5 columns]"
            ]
          },
          "metadata": {},
          "execution_count": 6
        }
      ],
      "metadata": {}
    },
    {
      "cell_type": "code",
      "execution_count": 3,
      "source": [
        "meta_df['item_id'] = meta_df['asin'].astype(str)\n",
        "cf_df['item_id'] = cf_df['item_id'].astype(str)\n",
        "meta_df['img_path'] = meta_df['imUrl'].apply(lambda x : osp.join(data_dir,category, osp.basename(str(x))))\n",
        "df = meta_df[['item_id', 'img_path', 'categories']].merge(cf_df, how='inner', on='item_id')\n",
        "print(len(df), len(meta_df), len(cf_df))"
      ],
      "outputs": [
        {
          "output_type": "stream",
          "name": "stdout",
          "text": [
            "23032 1503384 23032\n"
          ]
        }
      ],
      "metadata": {}
    },
    {
      "cell_type": "code",
      "execution_count": 4,
      "source": [
        "df['img_exists'] = [osp.exists(path) for path in df['img_path']]\n",
        "df = df[df['img_exists'] == True]"
      ],
      "outputs": [],
      "metadata": {}
    },
    {
      "cell_type": "code",
      "execution_count": 5,
      "source": [
        "def process_categories(category_list):\n",
        "    category_processed_list =[]\n",
        "    for cat in category_list:\n",
        "        if cat[0] == 'Clothing, Shoes & Jewelry':\n",
        "            category_processed_list.append(' + '.join(cat))\n",
        "    return category_processed_list"
      ],
      "outputs": [],
      "metadata": {}
    },
    {
      "cell_type": "code",
      "execution_count": 6,
      "source": [
        "df['categories_proc'] = df['categories'].apply(process_categories)\n",
        "mlb = MultiLabelBinarizer()\n",
        "df['label_vec'] = mlb.fit_transform(df['categories_proc'].tolist()).tolist()\n",
        "df.head()\n"
      ],
      "outputs": [
        {
          "output_type": "execute_result",
          "data": {
            "text/html": [
              "<div>\n",
              "<style scoped>\n",
              "    .dataframe tbody tr th:only-of-type {\n",
              "        vertical-align: middle;\n",
              "    }\n",
              "\n",
              "    .dataframe tbody tr th {\n",
              "        vertical-align: top;\n",
              "    }\n",
              "\n",
              "    .dataframe thead th {\n",
              "        text-align: right;\n",
              "    }\n",
              "</style>\n",
              "<table border=\"1\" class=\"dataframe\">\n",
              "  <thead>\n",
              "    <tr style=\"text-align: right;\">\n",
              "      <th></th>\n",
              "      <th>item_id</th>\n",
              "      <th>img_path</th>\n",
              "      <th>categories</th>\n",
              "      <th>embs</th>\n",
              "      <th>img_exists</th>\n",
              "      <th>categories_proc</th>\n",
              "      <th>label_vec</th>\n",
              "    </tr>\n",
              "  </thead>\n",
              "  <tbody>\n",
              "    <tr>\n",
              "      <th>0</th>\n",
              "      <td>0000031887</td>\n",
              "      <td>/data/amazon_dataset/Clothing_Shoes_and_Jewelr...</td>\n",
              "      <td>[[Clothing, Shoes &amp; Jewelry, Girls, Clothing, ...</td>\n",
              "      <td>[0.14030873775482178, 0.45290786027908325, -0....</td>\n",
              "      <td>True</td>\n",
              "      <td>[Clothing, Shoes &amp; Jewelry + Girls + Clothing ...</td>\n",
              "      <td>[0, 0, 0, 0, 0, 0, 0, 0, 0, 0, 0, 0, 0, 0, 0, ...</td>\n",
              "    </tr>\n",
              "    <tr>\n",
              "      <th>1</th>\n",
              "      <td>0123456479</td>\n",
              "      <td>/data/amazon_dataset/Clothing_Shoes_and_Jewelr...</td>\n",
              "      <td>[[Clothing, Shoes &amp; Jewelry, Novelty, Costumes...</td>\n",
              "      <td>[-0.0495118722319603, 0.3490423262119293, 0.41...</td>\n",
              "      <td>True</td>\n",
              "      <td>[Clothing, Shoes &amp; Jewelry + Novelty, Costumes...</td>\n",
              "      <td>[0, 0, 0, 0, 0, 0, 0, 0, 0, 0, 0, 0, 0, 0, 0, ...</td>\n",
              "    </tr>\n",
              "    <tr>\n",
              "      <th>2</th>\n",
              "      <td>1608299953</td>\n",
              "      <td>/data/amazon_dataset/Clothing_Shoes_and_Jewelr...</td>\n",
              "      <td>[[Clothing, Shoes &amp; Jewelry, Luggage &amp; Travel ...</td>\n",
              "      <td>[0.05297519639134407, 0.33131709694862366, 0.3...</td>\n",
              "      <td>True</td>\n",
              "      <td>[Clothing, Shoes &amp; Jewelry + Luggage &amp; Travel ...</td>\n",
              "      <td>[0, 0, 0, 0, 0, 0, 0, 0, 0, 0, 0, 0, 0, 0, 0, ...</td>\n",
              "    </tr>\n",
              "    <tr>\n",
              "      <th>3</th>\n",
              "      <td>1617160377</td>\n",
              "      <td>/data/amazon_dataset/Clothing_Shoes_and_Jewelr...</td>\n",
              "      <td>[[Clothing, Shoes &amp; Jewelry, Luggage &amp; Travel ...</td>\n",
              "      <td>[0.17767387628555298, 0.06136820837855339, -0....</td>\n",
              "      <td>True</td>\n",
              "      <td>[Clothing, Shoes &amp; Jewelry + Luggage &amp; Travel ...</td>\n",
              "      <td>[0, 0, 0, 0, 0, 0, 0, 0, 0, 0, 0, 0, 0, 0, 0, ...</td>\n",
              "    </tr>\n",
              "    <tr>\n",
              "      <th>4</th>\n",
              "      <td>B00001WRHJ</td>\n",
              "      <td>/data/amazon_dataset/Clothing_Shoes_and_Jewelr...</td>\n",
              "      <td>[[Clothing, Shoes &amp; Jewelry, Boys], [Clothing,...</td>\n",
              "      <td>[0.13946492969989777, 0.3011769652366638, 0.12...</td>\n",
              "      <td>True</td>\n",
              "      <td>[Clothing, Shoes &amp; Jewelry + Boys, Clothing, S...</td>\n",
              "      <td>[0, 0, 0, 0, 0, 0, 0, 0, 0, 0, 0, 0, 0, 0, 0, ...</td>\n",
              "    </tr>\n",
              "  </tbody>\n",
              "</table>\n",
              "</div>"
            ],
            "text/plain": [
              "      item_id                                           img_path  \\\n",
              "0  0000031887  /data/amazon_dataset/Clothing_Shoes_and_Jewelr...   \n",
              "1  0123456479  /data/amazon_dataset/Clothing_Shoes_and_Jewelr...   \n",
              "2  1608299953  /data/amazon_dataset/Clothing_Shoes_and_Jewelr...   \n",
              "3  1617160377  /data/amazon_dataset/Clothing_Shoes_and_Jewelr...   \n",
              "4  B00001WRHJ  /data/amazon_dataset/Clothing_Shoes_and_Jewelr...   \n",
              "\n",
              "                                          categories  \\\n",
              "0  [[Clothing, Shoes & Jewelry, Girls, Clothing, ...   \n",
              "1  [[Clothing, Shoes & Jewelry, Novelty, Costumes...   \n",
              "2  [[Clothing, Shoes & Jewelry, Luggage & Travel ...   \n",
              "3  [[Clothing, Shoes & Jewelry, Luggage & Travel ...   \n",
              "4  [[Clothing, Shoes & Jewelry, Boys], [Clothing,...   \n",
              "\n",
              "                                                embs  img_exists  \\\n",
              "0  [0.14030873775482178, 0.45290786027908325, -0....        True   \n",
              "1  [-0.0495118722319603, 0.3490423262119293, 0.41...        True   \n",
              "2  [0.05297519639134407, 0.33131709694862366, 0.3...        True   \n",
              "3  [0.17767387628555298, 0.06136820837855339, -0....        True   \n",
              "4  [0.13946492969989777, 0.3011769652366638, 0.12...        True   \n",
              "\n",
              "                                     categories_proc  \\\n",
              "0  [Clothing, Shoes & Jewelry + Girls + Clothing ...   \n",
              "1  [Clothing, Shoes & Jewelry + Novelty, Costumes...   \n",
              "2  [Clothing, Shoes & Jewelry + Luggage & Travel ...   \n",
              "3  [Clothing, Shoes & Jewelry + Luggage & Travel ...   \n",
              "4  [Clothing, Shoes & Jewelry + Boys, Clothing, S...   \n",
              "\n",
              "                                           label_vec  \n",
              "0  [0, 0, 0, 0, 0, 0, 0, 0, 0, 0, 0, 0, 0, 0, 0, ...  \n",
              "1  [0, 0, 0, 0, 0, 0, 0, 0, 0, 0, 0, 0, 0, 0, 0, ...  \n",
              "2  [0, 0, 0, 0, 0, 0, 0, 0, 0, 0, 0, 0, 0, 0, 0, ...  \n",
              "3  [0, 0, 0, 0, 0, 0, 0, 0, 0, 0, 0, 0, 0, 0, 0, ...  \n",
              "4  [0, 0, 0, 0, 0, 0, 0, 0, 0, 0, 0, 0, 0, 0, 0, ...  "
            ]
          },
          "metadata": {},
          "execution_count": 6
        }
      ],
      "metadata": {}
    },
    {
      "cell_type": "code",
      "execution_count": 58,
      "source": [
        "from itertools import chain\n",
        "label_count = pd.value_counts(list(chain.from_iterable(df['categories_proc'].tolist())))\n",
        "label_count_threshold = 10\n",
        "print(f'{len(label_count)=} {(label_count<label_count_threshold).sum()=}')"
      ],
      "outputs": [
        {
          "output_type": "stream",
          "name": "stdout",
          "text": [
            "len(label_count)=1776 (label_count<label_count_threshold).sum()=1085\n"
          ]
        }
      ],
      "metadata": {}
    },
    {
      "cell_type": "code",
      "execution_count": 32,
      "source": [
        "categories = list(label_count[label_count> label_count_threshold].index)"
      ],
      "outputs": [],
      "metadata": {}
    },
    {
      "cell_type": "code",
      "execution_count": 55,
      "source": [
        "cat_mapper = {cat: ' + '.join(cat.split(' + ')[:-1]) for cat in label_count[label_count<= label_count_threshold].index}\n",
        "\n",
        "def levelup_category(cats,cat_mapper):\n",
        "    outs =[]\n",
        "    for cat in cats:\n",
        "        if cat in cat_mapper.keys():\n",
        "            outs.append(cat_mapper[cat])\n",
        "        else:\n",
        "            outs.append(cat)\n",
        "    return outs\n",
        "\n",
        "df['categories_proc_2'] = df['categories_proc'].apply(lambda cats:  levelup_category(cats,cat_mapper=cat_mapper))\n",
        "    "
      ],
      "outputs": [],
      "metadata": {}
    },
    {
      "cell_type": "code",
      "execution_count": 59,
      "source": [
        "from itertools import chain\n",
        "label_count = pd.value_counts(list(chain.from_iterable(df['categories_proc_2'].tolist())))\n",
        "print(f'{len(label_count)=} {(label_count<label_count_threshold).sum()=}')"
      ],
      "outputs": [
        {
          "output_type": "stream",
          "name": "stdout",
          "text": [
            "len(label_count)=956 (label_count<label_count_threshold).sum()=180\n"
          ]
        }
      ],
      "metadata": {}
    },
    {
      "cell_type": "code",
      "execution_count": 60,
      "source": [
        "label_count[label_count<label_count_threshold]"
      ],
      "outputs": [
        {
          "output_type": "execute_result",
          "data": {
            "text/plain": [
              "Clothing, Shoes & Jewelry + Novelty, Costumes & More + Work Wear & Uniforms + Clothing + Work Utility & Safety + Women    9\n",
              "Clothing, Shoes & Jewelry + Women + Clothing + Shorts                                                                     9\n",
              "Clothing, Shoes & Jewelry + Women + Plus-Size + Socks & Hosiery                                                           9\n",
              "Clothing, Shoes & Jewelry + Men + Jewelry + Religious                                                                     9\n",
              "Clothing, Shoes & Jewelry + Women + Clothing + Swimsuits & Cover Ups                                                      9\n",
              "                                                                                                                         ..\n",
              "Clothing, Shoes & Jewelry + Women + Jewelry + Fine + Charms & Charm Bracelets + Charms                                    1\n",
              "Clothing, Shoes & Jewelry + 0-9                                                                                           1\n",
              "Clothing, Shoes & Jewelry + Motorcycle & ATV Casual Footwear                                                              1\n",
              "Clothing, Shoes & Jewelry + Baby + Baby Girls + Clothing + Sleepwear & Robes                                              1\n",
              "Clothing, Shoes & Jewelry + Women + Juniors + Coats & Jackets                                                             1\n",
              "Length: 180, dtype: int64"
            ]
          },
          "metadata": {},
          "execution_count": 60
        }
      ],
      "metadata": {}
    },
    {
      "cell_type": "code",
      "execution_count": 35,
      "source": [
        "mlb = MultiLabelBinarizer()\n",
        "mlb.fit([categories])\n",
        "\n",
        "# def is_in_categories(cat_list):\n",
        "#     for cat in cat_list:\n",
        "#         mlb.transform([cat]) == 0\n",
        "\n",
        "# df['label_vec'] = mlb.fit_transform(df['categories_proc'].tolist()).tolist()\n",
        "# df.head()"
      ],
      "outputs": [
        {
          "output_type": "execute_result",
          "data": {
            "text/plain": [
              "MultiLabelBinarizer()"
            ]
          },
          "metadata": {},
          "execution_count": 35
        }
      ],
      "metadata": {}
    },
    {
      "cell_type": "code",
      "execution_count": 39,
      "source": [
        "(mlb.transform([df['categories_proc'].iloc[0]]) == 1).sum()"
      ],
      "outputs": [
        {
          "output_type": "stream",
          "name": "stderr",
          "text": [
            "/home/ubuntu/anaconda3/envs/cactus/lib/python3.9/site-packages/sklearn/preprocessing/_label.py:870: UserWarning: unknown class(es) ['Clothing, Shoes & Jewelry + Girls + Clothing + Active + Active Skirts'] will be ignored\n",
            "  warnings.warn(\n"
          ]
        },
        {
          "output_type": "execute_result",
          "data": {
            "text/plain": [
              "0"
            ]
          },
          "metadata": {},
          "execution_count": 39
        }
      ],
      "metadata": {}
    },
    {
      "cell_type": "code",
      "execution_count": 45,
      "source": [
        "label_count['Clothing, Shoes & Jewelry + Girls + Clothing']"
      ],
      "outputs": [
        {
          "output_type": "execute_result",
          "data": {
            "text/plain": [
              "6"
            ]
          },
          "metadata": {},
          "execution_count": 45
        }
      ],
      "metadata": {}
    },
    {
      "cell_type": "code",
      "execution_count": null,
      "source": [],
      "outputs": [],
      "metadata": {}
    }
  ]
}